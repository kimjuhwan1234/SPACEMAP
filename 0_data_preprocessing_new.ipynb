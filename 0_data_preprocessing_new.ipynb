{
 "cells": [
  {
   "cell_type": "code",
   "execution_count": 1,
   "metadata": {
    "ExecuteTime": {
     "end_time": "2024-08-06T13:32:02.531671700Z",
     "start_time": "2024-08-06T13:32:01.023693500Z"
    }
   },
   "outputs": [],
   "source": [
    "import requests\n",
    "import numpy as np\n",
    "import pandas as pd\n",
    "from tqdm import tqdm\n",
    "from sgp4.api import Satrec\n",
    "from sgp4.ext import invjday\n",
    "from astropy.time import Time\n",
    "from astropy import units as u\n",
    "from sgp4.conveniences import jday\n",
    "from joblib import Parallel, delayed\n",
    "from astropy.coordinates import ITRS\n",
    "from datetime import datetime, timedelta\n",
    "from astropy.coordinates import TEME, CartesianDifferential, CartesianRepresentation"
   ]
  },
  {
   "cell_type": "code",
   "outputs": [],
   "source": [
    "username = 'asas4539@hanyang.ac.kr'\n",
    "password = 'onsaemiro1729!!'"
   ],
   "metadata": {
    "collapsed": false,
    "ExecuteTime": {
     "end_time": "2024-08-06T13:32:02.548604600Z",
     "start_time": "2024-08-06T13:32:02.533671500Z"
    }
   },
   "execution_count": 2
  },
  {
   "cell_type": "code",
   "execution_count": 3,
   "metadata": {
    "ExecuteTime": {
     "end_time": "2024-08-06T13:32:02.569398400Z",
     "start_time": "2024-08-06T13:32:02.550604500Z"
    }
   },
   "outputs": [],
   "source": [
    "def get_tle(sat_num):\n",
    "    # Space-Track API의 URL\n",
    "    url = \"https://www.space-track.org/ajaxauth/login\"\n",
    "    payload = {\"identity\": username, \"password\": password}\n",
    "\n",
    "    session = requests.Session()\n",
    "    response = session.post(url, data=payload)\n",
    "    if response.status_code != 200:\n",
    "        print(\"로그인에 실패했습니다.\")\n",
    "        return None\n",
    "    response = session.get(\n",
    "        f\"https://www.space-track.org/basicspacedata/query/class/tle/NORAD_CAT_ID/{sat_num}/EPOCH/2022-12-31--2024-08-01/orderby/EPOCH%20asc/format/3le/emptyresult/show\"\n",
    "    )\n",
    "\n",
    "    return response"
   ]
  },
  {
   "cell_type": "code",
   "outputs": [],
   "source": [
    "def get_info(change_df):\n",
    "    all_info = []\n",
    "    earth_radius = 6378.137\n",
    "    rad2deg = 180.0 / 3.141592653589793\n",
    "\n",
    "    for i in range(len(change_df) - 1):\n",
    "        sat_info = change_df.iloc[i]\n",
    "        next_sat_info = change_df.iloc[i + 1]\n",
    "\n",
    "        tle_1, tle_2 = sat_info['first_line'], sat_info['second_line']\n",
    "        satellite = Satrec.twoline2rv(tle_1, tle_2)\n",
    "        jdsatepoch = satellite.jdsatepoch\n",
    "        jdsatepochfrac = satellite.jdsatepochF\n",
    "        epochdatetime = list(invjday(jdsatepoch + jdsatepochfrac))\n",
    "        epochdatetime[-1] = int(epochdatetime[-1])\n",
    "\n",
    "        next_tle_1, next_tle_2 = next_sat_info['first_line'], next_sat_info['second_line']\n",
    "        next_satellite = Satrec.twoline2rv(next_tle_1, next_tle_2)\n",
    "        next_jdsatepoch = next_satellite.jdsatepoch\n",
    "        next_jdsatepochfrac = next_satellite.jdsatepochF\n",
    "        next_epochdatetime = list(invjday(next_jdsatepoch + next_jdsatepochfrac))\n",
    "        next_epochdatetime[-1] = int(next_epochdatetime[-1])\n",
    "\n",
    "        start = datetime(*epochdatetime)\n",
    "        end = datetime(*next_epochdatetime)\n",
    "        end += timedelta(seconds=1)\n",
    "        epoch = start\n",
    "        jd_lst = []\n",
    "        fr_lst = []\n",
    "        time_lst = []\n",
    "\n",
    "        while (epoch < end):\n",
    "            year = epoch.year\n",
    "            month = epoch.month\n",
    "            date = epoch.day\n",
    "            hour = epoch.hour\n",
    "            minute = epoch.minute\n",
    "            second = epoch.second\n",
    "            jd, fr = jday(year, month, date, hour, minute, second)\n",
    "\n",
    "            time_lst.append(epoch)\n",
    "            jd_lst.append(jd)\n",
    "            fr_lst.append(fr)\n",
    "            epoch += timedelta(minutes=1)\n",
    "\n",
    "        e, r, v = satellite.sgp4_array(np.array(jd_lst), np.array(fr_lst))\n",
    "        t_lst = Time(list(np.array(jd_lst) + np.array(fr_lst)), format='jd')\n",
    "        teme_p = CartesianRepresentation(r[:, 0] * u.km, r[:, 1] * u.km, r[:, 2] * u.km)\n",
    "        teme_v = CartesianDifferential(v[:, 0] * u.km / u.s, v[:, 1] * u.km / u.s, v[:, 2] * u.km / u.s)\n",
    "        teme = TEME(teme_p.with_differentials(teme_v), obstime=t_lst)\n",
    "        itrs_geo = teme.transform_to(ITRS(obstime=t_lst))\n",
    "        locations = itrs_geo.earth_location\n",
    "        geodetic_coords = locations.geodetic\n",
    "\n",
    "        segment_df = pd.DataFrame({\n",
    "            'time': time_lst,\n",
    "            'x': r[:, 0], 'y': r[:, 1], 'z': r[:, 2],\n",
    "            'vx': v[:, 0], 'vy': v[:, 1], 'vz': v[:, 2],\n",
    "            'x_earth': teme_p.x.value, 'y_earth': teme_p.y.value, 'z_earth': teme_p.z.value,\n",
    "            'vx_earth': teme_v.d_x.value, 'vy_earth': teme_v.d_y.value, 'vz_earth': teme_v.d_z.value,\n",
    "            'altitude': (r[:, 0] ** 2 + r[:, 1] ** 2 + r[:, 2] ** 2) ** 0.5,\n",
    "            'velocity': (v[:, 0] ** 2 + v[:, 1] ** 2 + v[:, 2] ** 2) ** 0.5,\n",
    "            'apogee': [satellite.alta * earth_radius] * len(time_lst),\n",
    "            'perigee': [satellite.altp * earth_radius] * len(time_lst),\n",
    "            'inclination': [satellite.inclo * rad2deg] * len(time_lst),\n",
    "            'eccentricity': [satellite.ecco] * len(time_lst),\n",
    "            'raan': [satellite.nodeo] * len(time_lst),\n",
    "            'longitude': geodetic_coords.lon.value,\n",
    "            'latitude': geodetic_coords.lat.value,\n",
    "            'height': geodetic_coords.height.value,\n",
    "        })\n",
    "        all_info.append(segment_df)\n",
    "\n",
    "    result = pd.concat(all_info).reset_index(drop=True)\n",
    "    result['time'] = pd.to_datetime(result['time'])\n",
    "    result = result.set_index('time')\n",
    "    result.sort_index(inplace=True)\n",
    "\n",
    "    return result"
   ],
   "metadata": {
    "collapsed": false,
    "ExecuteTime": {
     "end_time": "2024-08-06T13:32:02.593840700Z",
     "start_time": "2024-08-06T13:32:02.574469700Z"
    }
   },
   "execution_count": 4
  },
  {
   "cell_type": "code",
   "outputs": [],
   "source": [
    "number_lst = [44343, 44349, 44350, 44351, 44353, 44358, 58464, 46267, 53611, 53019, 51961, 47775, 51969, 58722, 56361,\n",
    "              56289, 56783, 48018, 43823, 45246, 29349, 37265, 42691, 42984, 55841]\n",
    "\n",
    "to_do_lst = []"
   ],
   "metadata": {
    "collapsed": false,
    "ExecuteTime": {
     "end_time": "2024-08-06T13:32:02.613690600Z",
     "start_time": "2024-08-06T13:32:02.597416600Z"
    }
   },
   "execution_count": 5
  },
  {
   "cell_type": "code",
   "outputs": [
    {
     "name": "stdout",
     "output_type": "stream",
     "text": [
      "42691\n",
      "Saving 42691...\n",
      "Saved 42691!\n",
      "\n",
      "42984\n"
     ]
    },
    {
     "ename": "KeyboardInterrupt",
     "evalue": "",
     "output_type": "error",
     "traceback": [
      "\u001B[1;31m---------------------------------------------------------------------------\u001B[0m",
      "\u001B[1;31mKeyboardInterrupt\u001B[0m                         Traceback (most recent call last)",
      "\u001B[1;32m~\\AppData\\Local\\Temp\\ipykernel_10340\\2566864307.py\u001B[0m in \u001B[0;36m?\u001B[1;34m()\u001B[0m\n\u001B[0;32m     47\u001B[0m     \u001B[1;31m#     seg_lst.append(change_df.iloc[hour_idx])\u001B[0m\u001B[1;33m\u001B[0m\u001B[1;33m\u001B[0m\u001B[0m\n\u001B[0;32m     48\u001B[0m     \u001B[1;31m# result_lst = Parallel(n_jobs=6)(delayed(get_info)(seg) for seg in tqdm(seg_lst))\u001B[0m\u001B[1;33m\u001B[0m\u001B[1;33m\u001B[0m\u001B[0m\n\u001B[0;32m     49\u001B[0m     \u001B[1;31m# result_df = pd.concat(result_lst).sort_values(by=['time'])\u001B[0m\u001B[1;33m\u001B[0m\u001B[1;33m\u001B[0m\u001B[0m\n\u001B[0;32m     50\u001B[0m \u001B[1;33m\u001B[0m\u001B[0m\n\u001B[1;32m---> 51\u001B[1;33m     \u001B[0mresult_df\u001B[0m\u001B[1;33m=\u001B[0m\u001B[0mget_info\u001B[0m\u001B[1;33m(\u001B[0m\u001B[0mchange_df\u001B[0m\u001B[1;33m)\u001B[0m\u001B[1;33m\u001B[0m\u001B[1;33m\u001B[0m\u001B[0m\n\u001B[0m\u001B[0;32m     52\u001B[0m     \u001B[0mprint\u001B[0m\u001B[1;33m(\u001B[0m\u001B[1;34mf'Saving {number}...'\u001B[0m\u001B[1;33m)\u001B[0m\u001B[1;33m\u001B[0m\u001B[1;33m\u001B[0m\u001B[0m\n\u001B[0;32m     53\u001B[0m     \u001B[0mresult_df\u001B[0m\u001B[1;33m.\u001B[0m\u001B[0mto_csv\u001B[0m\u001B[1;33m(\u001B[0m\u001B[1;34mf'Database/{number}_new.csv'\u001B[0m\u001B[1;33m)\u001B[0m\u001B[1;33m\u001B[0m\u001B[1;33m\u001B[0m\u001B[0m\n\u001B[0;32m     54\u001B[0m     \u001B[0mprint\u001B[0m\u001B[1;33m(\u001B[0m\u001B[1;34mf'Saved {number}!\\n'\u001B[0m\u001B[1;33m)\u001B[0m\u001B[1;33m\u001B[0m\u001B[1;33m\u001B[0m\u001B[0m\n",
      "\u001B[1;32m~\\AppData\\Local\\Temp\\ipykernel_10340\\2404862218.py\u001B[0m in \u001B[0;36m?\u001B[1;34m(change_df)\u001B[0m\n\u001B[0;32m     47\u001B[0m         \u001B[0mt_lst\u001B[0m \u001B[1;33m=\u001B[0m \u001B[0mTime\u001B[0m\u001B[1;33m(\u001B[0m\u001B[0mlist\u001B[0m\u001B[1;33m(\u001B[0m\u001B[0mnp\u001B[0m\u001B[1;33m.\u001B[0m\u001B[0marray\u001B[0m\u001B[1;33m(\u001B[0m\u001B[0mjd_lst\u001B[0m\u001B[1;33m)\u001B[0m \u001B[1;33m+\u001B[0m \u001B[0mnp\u001B[0m\u001B[1;33m.\u001B[0m\u001B[0marray\u001B[0m\u001B[1;33m(\u001B[0m\u001B[0mfr_lst\u001B[0m\u001B[1;33m)\u001B[0m\u001B[1;33m)\u001B[0m\u001B[1;33m,\u001B[0m \u001B[0mformat\u001B[0m\u001B[1;33m=\u001B[0m\u001B[1;34m'jd'\u001B[0m\u001B[1;33m)\u001B[0m\u001B[1;33m\u001B[0m\u001B[1;33m\u001B[0m\u001B[0m\n\u001B[0;32m     48\u001B[0m         \u001B[0mteme_p\u001B[0m \u001B[1;33m=\u001B[0m \u001B[0mCartesianRepresentation\u001B[0m\u001B[1;33m(\u001B[0m\u001B[0mr\u001B[0m\u001B[1;33m[\u001B[0m\u001B[1;33m:\u001B[0m\u001B[1;33m,\u001B[0m \u001B[1;36m0\u001B[0m\u001B[1;33m]\u001B[0m \u001B[1;33m*\u001B[0m \u001B[0mu\u001B[0m\u001B[1;33m.\u001B[0m\u001B[0mkm\u001B[0m\u001B[1;33m,\u001B[0m \u001B[0mr\u001B[0m\u001B[1;33m[\u001B[0m\u001B[1;33m:\u001B[0m\u001B[1;33m,\u001B[0m \u001B[1;36m1\u001B[0m\u001B[1;33m]\u001B[0m \u001B[1;33m*\u001B[0m \u001B[0mu\u001B[0m\u001B[1;33m.\u001B[0m\u001B[0mkm\u001B[0m\u001B[1;33m,\u001B[0m \u001B[0mr\u001B[0m\u001B[1;33m[\u001B[0m\u001B[1;33m:\u001B[0m\u001B[1;33m,\u001B[0m \u001B[1;36m2\u001B[0m\u001B[1;33m]\u001B[0m \u001B[1;33m*\u001B[0m \u001B[0mu\u001B[0m\u001B[1;33m.\u001B[0m\u001B[0mkm\u001B[0m\u001B[1;33m)\u001B[0m\u001B[1;33m\u001B[0m\u001B[1;33m\u001B[0m\u001B[0m\n\u001B[0;32m     49\u001B[0m         \u001B[0mteme_v\u001B[0m \u001B[1;33m=\u001B[0m \u001B[0mCartesianDifferential\u001B[0m\u001B[1;33m(\u001B[0m\u001B[0mv\u001B[0m\u001B[1;33m[\u001B[0m\u001B[1;33m:\u001B[0m\u001B[1;33m,\u001B[0m \u001B[1;36m0\u001B[0m\u001B[1;33m]\u001B[0m \u001B[1;33m*\u001B[0m \u001B[0mu\u001B[0m\u001B[1;33m.\u001B[0m\u001B[0mkm\u001B[0m \u001B[1;33m/\u001B[0m \u001B[0mu\u001B[0m\u001B[1;33m.\u001B[0m\u001B[0ms\u001B[0m\u001B[1;33m,\u001B[0m \u001B[0mv\u001B[0m\u001B[1;33m[\u001B[0m\u001B[1;33m:\u001B[0m\u001B[1;33m,\u001B[0m \u001B[1;36m1\u001B[0m\u001B[1;33m]\u001B[0m \u001B[1;33m*\u001B[0m \u001B[0mu\u001B[0m\u001B[1;33m.\u001B[0m\u001B[0mkm\u001B[0m \u001B[1;33m/\u001B[0m \u001B[0mu\u001B[0m\u001B[1;33m.\u001B[0m\u001B[0ms\u001B[0m\u001B[1;33m,\u001B[0m \u001B[0mv\u001B[0m\u001B[1;33m[\u001B[0m\u001B[1;33m:\u001B[0m\u001B[1;33m,\u001B[0m \u001B[1;36m2\u001B[0m\u001B[1;33m]\u001B[0m \u001B[1;33m*\u001B[0m \u001B[0mu\u001B[0m\u001B[1;33m.\u001B[0m\u001B[0mkm\u001B[0m \u001B[1;33m/\u001B[0m \u001B[0mu\u001B[0m\u001B[1;33m.\u001B[0m\u001B[0ms\u001B[0m\u001B[1;33m)\u001B[0m\u001B[1;33m\u001B[0m\u001B[1;33m\u001B[0m\u001B[0m\n\u001B[0;32m     50\u001B[0m         \u001B[0mteme\u001B[0m \u001B[1;33m=\u001B[0m \u001B[0mTEME\u001B[0m\u001B[1;33m(\u001B[0m\u001B[0mteme_p\u001B[0m\u001B[1;33m.\u001B[0m\u001B[0mwith_differentials\u001B[0m\u001B[1;33m(\u001B[0m\u001B[0mteme_v\u001B[0m\u001B[1;33m)\u001B[0m\u001B[1;33m,\u001B[0m \u001B[0mobstime\u001B[0m\u001B[1;33m=\u001B[0m\u001B[0mt_lst\u001B[0m\u001B[1;33m)\u001B[0m\u001B[1;33m\u001B[0m\u001B[1;33m\u001B[0m\u001B[0m\n\u001B[1;32m---> 51\u001B[1;33m         \u001B[0mitrs_geo\u001B[0m \u001B[1;33m=\u001B[0m \u001B[0mteme\u001B[0m\u001B[1;33m.\u001B[0m\u001B[0mtransform_to\u001B[0m\u001B[1;33m(\u001B[0m\u001B[0mITRS\u001B[0m\u001B[1;33m(\u001B[0m\u001B[0mobstime\u001B[0m\u001B[1;33m=\u001B[0m\u001B[0mt_lst\u001B[0m\u001B[1;33m)\u001B[0m\u001B[1;33m)\u001B[0m\u001B[1;33m\u001B[0m\u001B[1;33m\u001B[0m\u001B[0m\n\u001B[0m\u001B[0;32m     52\u001B[0m         \u001B[0mlocations\u001B[0m \u001B[1;33m=\u001B[0m \u001B[0mitrs_geo\u001B[0m\u001B[1;33m.\u001B[0m\u001B[0mearth_location\u001B[0m\u001B[1;33m\u001B[0m\u001B[1;33m\u001B[0m\u001B[0m\n\u001B[0;32m     53\u001B[0m         \u001B[0mgeodetic_coords\u001B[0m \u001B[1;33m=\u001B[0m \u001B[0mlocations\u001B[0m\u001B[1;33m.\u001B[0m\u001B[0mgeodetic\u001B[0m\u001B[1;33m\u001B[0m\u001B[1;33m\u001B[0m\u001B[0m\n\u001B[0;32m     54\u001B[0m \u001B[1;33m\u001B[0m\u001B[0m\n",
      "\u001B[1;32m~\\anaconda3\\envs\\SPACEMAP\\lib\\site-packages\\astropy\\coordinates\\baseframe.py\u001B[0m in \u001B[0;36m?\u001B[1;34m(self, new_frame)\u001B[0m\n\u001B[0;32m   1279\u001B[0m                 \u001B[1;31m# no special transform needed, but should update frame info\u001B[0m\u001B[1;33m\u001B[0m\u001B[1;33m\u001B[0m\u001B[0m\n\u001B[0;32m   1280\u001B[0m                 \u001B[1;32mreturn\u001B[0m \u001B[0mnew_frame\u001B[0m\u001B[1;33m.\u001B[0m\u001B[0mrealize_frame\u001B[0m\u001B[1;33m(\u001B[0m\u001B[0mself\u001B[0m\u001B[1;33m.\u001B[0m\u001B[0mdata\u001B[0m\u001B[1;33m)\u001B[0m\u001B[1;33m\u001B[0m\u001B[1;33m\u001B[0m\u001B[0m\n\u001B[0;32m   1281\u001B[0m             \u001B[0mmsg\u001B[0m \u001B[1;33m=\u001B[0m \u001B[1;34m\"Cannot transform from {0} to {1}\"\u001B[0m\u001B[1;33m\u001B[0m\u001B[1;33m\u001B[0m\u001B[0m\n\u001B[0;32m   1282\u001B[0m             \u001B[1;32mraise\u001B[0m \u001B[0mConvertError\u001B[0m\u001B[1;33m(\u001B[0m\u001B[0mmsg\u001B[0m\u001B[1;33m.\u001B[0m\u001B[0mformat\u001B[0m\u001B[1;33m(\u001B[0m\u001B[0mself\u001B[0m\u001B[1;33m.\u001B[0m\u001B[0m__class__\u001B[0m\u001B[1;33m,\u001B[0m \u001B[0mnew_frame\u001B[0m\u001B[1;33m.\u001B[0m\u001B[0m__class__\u001B[0m\u001B[1;33m)\u001B[0m\u001B[1;33m)\u001B[0m\u001B[1;33m\u001B[0m\u001B[1;33m\u001B[0m\u001B[0m\n\u001B[1;32m-> 1283\u001B[1;33m         \u001B[1;32mreturn\u001B[0m \u001B[0mtrans\u001B[0m\u001B[1;33m(\u001B[0m\u001B[0mself\u001B[0m\u001B[1;33m,\u001B[0m \u001B[0mnew_frame\u001B[0m\u001B[1;33m)\u001B[0m\u001B[1;33m\u001B[0m\u001B[1;33m\u001B[0m\u001B[0m\n\u001B[0m",
      "\u001B[1;32m~\\anaconda3\\envs\\SPACEMAP\\lib\\site-packages\\astropy\\coordinates\\transformations\\composite.py\u001B[0m in \u001B[0;36m?\u001B[1;34m(self, fromcoord, toframe)\u001B[0m\n\u001B[0;32m    109\u001B[0m                     \u001B[0mattr\u001B[0m \u001B[1;33m=\u001B[0m \u001B[0mgetattr\u001B[0m\u001B[1;33m(\u001B[0m\u001B[0mfromcoord\u001B[0m\u001B[1;33m,\u001B[0m \u001B[0minter_frame_attr_nm\u001B[0m\u001B[1;33m)\u001B[0m\u001B[1;33m\u001B[0m\u001B[1;33m\u001B[0m\u001B[0m\n\u001B[0;32m    110\u001B[0m                     \u001B[0mfrattrs\u001B[0m\u001B[1;33m[\u001B[0m\u001B[0minter_frame_attr_nm\u001B[0m\u001B[1;33m]\u001B[0m \u001B[1;33m=\u001B[0m \u001B[0mattr\u001B[0m\u001B[1;33m\u001B[0m\u001B[1;33m\u001B[0m\u001B[0m\n\u001B[0;32m    111\u001B[0m \u001B[1;33m\u001B[0m\u001B[0m\n\u001B[0;32m    112\u001B[0m             \u001B[0mcurr_toframe\u001B[0m \u001B[1;33m=\u001B[0m \u001B[0mt\u001B[0m\u001B[1;33m.\u001B[0m\u001B[0mtosys\u001B[0m\u001B[1;33m(\u001B[0m\u001B[1;33m**\u001B[0m\u001B[0mfrattrs\u001B[0m\u001B[1;33m)\u001B[0m\u001B[1;33m\u001B[0m\u001B[1;33m\u001B[0m\u001B[0m\n\u001B[1;32m--> 113\u001B[1;33m             \u001B[0mcurr_coord\u001B[0m \u001B[1;33m=\u001B[0m \u001B[0mt\u001B[0m\u001B[1;33m(\u001B[0m\u001B[0mcurr_coord\u001B[0m\u001B[1;33m,\u001B[0m \u001B[0mcurr_toframe\u001B[0m\u001B[1;33m)\u001B[0m\u001B[1;33m\u001B[0m\u001B[1;33m\u001B[0m\u001B[0m\n\u001B[0m\u001B[0;32m    114\u001B[0m \u001B[1;33m\u001B[0m\u001B[0m\n\u001B[0;32m    115\u001B[0m         \u001B[1;31m# this is safe even in the case where self.transforms is empty, because\u001B[0m\u001B[1;33m\u001B[0m\u001B[1;33m\u001B[0m\u001B[0m\n\u001B[0;32m    116\u001B[0m         \u001B[1;31m# coordinate objects are immutable, so copying is not needed\u001B[0m\u001B[1;33m\u001B[0m\u001B[1;33m\u001B[0m\u001B[0m\n",
      "\u001B[1;32m~\\anaconda3\\envs\\SPACEMAP\\lib\\site-packages\\astropy\\coordinates\\transformations\\function.py\u001B[0m in \u001B[0;36m?\u001B[1;34m(self, fromcoord, toframe)\u001B[0m\n\u001B[0;32m    196\u001B[0m             )\n\u001B[0;32m    197\u001B[0m             backxyz = (\n\u001B[0;32m    198\u001B[0m                 \u001B[0mfromcoord_cart\u001B[0m\u001B[1;33m.\u001B[0m\u001B[0mxyz\u001B[0m \u001B[1;33m-\u001B[0m \u001B[0mfromcoord_cart\u001B[0m\u001B[1;33m.\u001B[0m\u001B[0mdifferentials\u001B[0m\u001B[1;33m[\u001B[0m\u001B[1;34m\"s\"\u001B[0m\u001B[1;33m]\u001B[0m\u001B[1;33m.\u001B[0m\u001B[0md_xyz\u001B[0m \u001B[1;33m*\u001B[0m \u001B[0mhalfdt\u001B[0m\u001B[1;33m\u001B[0m\u001B[1;33m\u001B[0m\u001B[0m\n\u001B[0;32m    199\u001B[0m             )\n\u001B[1;32m--> 200\u001B[1;33m             back = supcall(\n\u001B[0m\u001B[0;32m    201\u001B[0m                 \u001B[0mfromcoord\u001B[0m\u001B[1;33m.\u001B[0m\u001B[0mrealize_frame\u001B[0m\u001B[1;33m(\u001B[0m\u001B[0mCartesianRepresentation\u001B[0m\u001B[1;33m(\u001B[0m\u001B[0mbackxyz\u001B[0m\u001B[1;33m)\u001B[0m\u001B[1;33m)\u001B[0m\u001B[1;33m,\u001B[0m \u001B[0mtoframe\u001B[0m\u001B[1;33m\u001B[0m\u001B[1;33m\u001B[0m\u001B[0m\n\u001B[0;32m    202\u001B[0m             )\n\u001B[0;32m    203\u001B[0m         \u001B[1;32melse\u001B[0m\u001B[1;33m:\u001B[0m\u001B[1;33m\u001B[0m\u001B[1;33m\u001B[0m\u001B[0m\n",
      "\u001B[1;32m~\\anaconda3\\envs\\SPACEMAP\\lib\\site-packages\\astropy\\coordinates\\builtin_frames\\intermediate_rotation_transforms.py\u001B[0m in \u001B[0;36m?\u001B[1;34m(teme_coo, itrs_frame)\u001B[0m\n\u001B[0;32m    276\u001B[0m \u001B[1;33m@\u001B[0m\u001B[0mframe_transform_graph\u001B[0m\u001B[1;33m.\u001B[0m\u001B[0mtransform\u001B[0m\u001B[1;33m(\u001B[0m\u001B[0mFunctionTransformWithFiniteDifference\u001B[0m\u001B[1;33m,\u001B[0m \u001B[0mTEME\u001B[0m\u001B[1;33m,\u001B[0m \u001B[0mITRS\u001B[0m\u001B[1;33m)\u001B[0m\u001B[1;33m\u001B[0m\u001B[1;33m\u001B[0m\u001B[0m\n\u001B[0;32m    277\u001B[0m \u001B[1;32mdef\u001B[0m \u001B[0mteme_to_itrs\u001B[0m\u001B[1;33m(\u001B[0m\u001B[0mteme_coo\u001B[0m\u001B[1;33m,\u001B[0m \u001B[0mitrs_frame\u001B[0m\u001B[1;33m)\u001B[0m\u001B[1;33m:\u001B[0m\u001B[1;33m\u001B[0m\u001B[1;33m\u001B[0m\u001B[0m\n\u001B[0;32m    278\u001B[0m     \u001B[1;31m# use the pmatrix to transform to ITRS in the source obstime\u001B[0m\u001B[1;33m\u001B[0m\u001B[1;33m\u001B[0m\u001B[0m\n\u001B[1;32m--> 279\u001B[1;33m     \u001B[0mpmat\u001B[0m \u001B[1;33m=\u001B[0m \u001B[0mteme_to_itrs_mat\u001B[0m\u001B[1;33m(\u001B[0m\u001B[0mteme_coo\u001B[0m\u001B[1;33m.\u001B[0m\u001B[0mobstime\u001B[0m\u001B[1;33m)\u001B[0m\u001B[1;33m\u001B[0m\u001B[1;33m\u001B[0m\u001B[0m\n\u001B[0m\u001B[0;32m    280\u001B[0m     \u001B[0mcrepr\u001B[0m \u001B[1;33m=\u001B[0m \u001B[0mteme_coo\u001B[0m\u001B[1;33m.\u001B[0m\u001B[0mcartesian\u001B[0m\u001B[1;33m.\u001B[0m\u001B[0mtransform\u001B[0m\u001B[1;33m(\u001B[0m\u001B[0mpmat\u001B[0m\u001B[1;33m)\u001B[0m\u001B[1;33m\u001B[0m\u001B[1;33m\u001B[0m\u001B[0m\n\u001B[0;32m    281\u001B[0m     \u001B[0mitrs\u001B[0m \u001B[1;33m=\u001B[0m \u001B[0mITRS\u001B[0m\u001B[1;33m(\u001B[0m\u001B[0mcrepr\u001B[0m\u001B[1;33m,\u001B[0m \u001B[0mobstime\u001B[0m\u001B[1;33m=\u001B[0m\u001B[0mteme_coo\u001B[0m\u001B[1;33m.\u001B[0m\u001B[0mobstime\u001B[0m\u001B[1;33m)\u001B[0m\u001B[1;33m\u001B[0m\u001B[1;33m\u001B[0m\u001B[0m\n\u001B[0;32m    282\u001B[0m \u001B[1;33m\u001B[0m\u001B[0m\n",
      "\u001B[1;32m~\\anaconda3\\envs\\SPACEMAP\\lib\\site-packages\\astropy\\coordinates\\builtin_frames\\intermediate_rotation_transforms.py\u001B[0m in \u001B[0;36m?\u001B[1;34m(time)\u001B[0m\n\u001B[0;32m     30\u001B[0m \u001B[1;33m\u001B[0m\u001B[0m\n\u001B[0;32m     31\u001B[0m     \u001B[1;31m# Polar Motion\u001B[0m\u001B[1;33m\u001B[0m\u001B[1;33m\u001B[0m\u001B[0m\n\u001B[0;32m     32\u001B[0m     \u001B[1;31m# Do not include TIO locator s' because it is not used in Vallado 2006\u001B[0m\u001B[1;33m\u001B[0m\u001B[1;33m\u001B[0m\u001B[0m\n\u001B[0;32m     33\u001B[0m     \u001B[0mxp\u001B[0m\u001B[1;33m,\u001B[0m \u001B[0myp\u001B[0m \u001B[1;33m=\u001B[0m \u001B[0mget_polar_motion\u001B[0m\u001B[1;33m(\u001B[0m\u001B[0mtime\u001B[0m\u001B[1;33m)\u001B[0m\u001B[1;33m\u001B[0m\u001B[1;33m\u001B[0m\u001B[0m\n\u001B[1;32m---> 34\u001B[1;33m     \u001B[0mpmmat\u001B[0m \u001B[1;33m=\u001B[0m \u001B[0merfa\u001B[0m\u001B[1;33m.\u001B[0m\u001B[0mpom00\u001B[0m\u001B[1;33m(\u001B[0m\u001B[0mxp\u001B[0m\u001B[1;33m,\u001B[0m \u001B[0myp\u001B[0m\u001B[1;33m,\u001B[0m \u001B[1;36m0\u001B[0m\u001B[1;33m)\u001B[0m\u001B[1;33m\u001B[0m\u001B[1;33m\u001B[0m\u001B[0m\n\u001B[0m\u001B[0;32m     35\u001B[0m \u001B[1;33m\u001B[0m\u001B[0m\n\u001B[0;32m     36\u001B[0m     \u001B[1;31m# rotation matrix\u001B[0m\u001B[1;33m\u001B[0m\u001B[1;33m\u001B[0m\u001B[0m\n\u001B[0;32m     37\u001B[0m     \u001B[1;31m# c2tcio expects a GCRS->CIRS matrix as it's first argument.\u001B[0m\u001B[1;33m\u001B[0m\u001B[1;33m\u001B[0m\u001B[0m\n",
      "\u001B[1;32m~\\anaconda3\\envs\\SPACEMAP\\lib\\site-packages\\erfa\\core.py\u001B[0m in \u001B[0;36m?\u001B[1;34m(xp, yp, sp)\u001B[0m\n\u001B[0;32m  11228\u001B[0m         \u001B[0mCopyright\u001B[0m \u001B[1;33m(\u001B[0m\u001B[0mC\u001B[0m\u001B[1;33m)\u001B[0m \u001B[1;36m2013\u001B[0m\u001B[1;33m-\u001B[0m\u001B[1;36m2023\u001B[0m\u001B[1;33m,\u001B[0m \u001B[0mNumFOCUS\u001B[0m \u001B[0mFoundation\u001B[0m\u001B[1;33m.\u001B[0m\u001B[1;33m\u001B[0m\u001B[1;33m\u001B[0m\u001B[0m\n\u001B[0;32m  11229\u001B[0m         \u001B[0mDerived\u001B[0m\u001B[1;33m,\u001B[0m \u001B[1;32mwith\u001B[0m \u001B[0mpermission\u001B[0m\u001B[1;33m,\u001B[0m \u001B[1;32mfrom\u001B[0m \u001B[0mthe\u001B[0m \u001B[0mSOFA\u001B[0m \u001B[0mlibrary\u001B[0m\u001B[1;33m.\u001B[0m  \u001B[0mSee\u001B[0m \u001B[0mnotes\u001B[0m \u001B[0mat\u001B[0m \u001B[0mend\u001B[0m \u001B[0mof\u001B[0m \u001B[0mfile\u001B[0m\u001B[1;33m.\u001B[0m\u001B[1;33m\u001B[0m\u001B[1;33m\u001B[0m\u001B[0m\n\u001B[0;32m  11230\u001B[0m \u001B[1;33m\u001B[0m\u001B[0m\n\u001B[0;32m  11231\u001B[0m     \"\"\"\n\u001B[1;32m> 11232\u001B[1;33m     \u001B[0mrpom\u001B[0m \u001B[1;33m=\u001B[0m \u001B[0mufunc\u001B[0m\u001B[1;33m.\u001B[0m\u001B[0mpom00\u001B[0m\u001B[1;33m(\u001B[0m\u001B[0mxp\u001B[0m\u001B[1;33m,\u001B[0m \u001B[0myp\u001B[0m\u001B[1;33m,\u001B[0m \u001B[0msp\u001B[0m\u001B[1;33m)\u001B[0m\u001B[1;33m\u001B[0m\u001B[1;33m\u001B[0m\u001B[0m\n\u001B[0m\u001B[0;32m  11233\u001B[0m     \u001B[1;32mreturn\u001B[0m \u001B[0mrpom\u001B[0m\u001B[1;33m\u001B[0m\u001B[1;33m\u001B[0m\u001B[0m\n",
      "\u001B[1;31mKeyboardInterrupt\u001B[0m: "
     ]
    }
   ],
   "source": [
    "for number in number_lst:\n",
    "    print(number)\n",
    "    # TLE_df 생성\n",
    "    response = get_tle(number)\n",
    "    tle_datas = response.text.split('\\r\\n')\n",
    "    tle_first_lst = []\n",
    "    tle_second_lst = []\n",
    "    for i in range(0, len(tle_datas) - 2, 3):\n",
    "        tle_first_lst.append(tle_datas[i + 1])\n",
    "        tle_second_lst.append(tle_datas[i + 2])\n",
    "    tle_df = pd.DataFrame({'first_line': tle_first_lst, 'second_line': tle_second_lst})\n",
    "    tle_df.drop_duplicates(keep='first', inplace=True)\n",
    "    tle_df.reset_index(inplace=True, drop=True)\n",
    "\n",
    "    # change_df 생성\n",
    "    change_times = []\n",
    "    for i in range(len(tle_df)):\n",
    "        tle_1, tle_2 = tle_df['first_line'].iloc[i], tle_df['second_line'].iloc[i]\n",
    "        satellite = Satrec.twoline2rv(tle_1, tle_2)\n",
    "        jdsatepoch = satellite.jdsatepoch\n",
    "        jdsatepochfrac = satellite.jdsatepochF\n",
    "        epochdatetime = invjday(jdsatepoch + jdsatepochfrac)\n",
    "        change_times.append(epochdatetime)\n",
    "    change_df = pd.DataFrame(change_times)\n",
    "    change_df.columns = ['year', 'month', 'day', 'hour', 'minute', 'second']\n",
    "    change_df['first_line'] = tle_df['first_line']\n",
    "    change_df['second_line'] = tle_df['second_line']\n",
    "    change_df['time'] = pd.to_datetime(change_df[['year', 'month', 'day', 'hour', 'minute', 'second']])\n",
    "    change_df['time'].drop_duplicates(keep='first', inplace=True)\n",
    "\n",
    "    # end point 삽입 및 day_change_idx 추출\n",
    "    end_point = change_df.iloc[-1:].copy()\n",
    "    end_point['month'] = 8\n",
    "    end_point['day'] = 1\n",
    "    end_point['hour'] = 0\n",
    "    end_point['minute'] = 0\n",
    "    end_point['second'] = 0\n",
    "    end_point['time'] = pd.to_datetime(end_point[['year', 'month', 'day', 'hour', 'minute', 'second']])\n",
    "    change_df = pd.concat([change_df, end_point], axis=0).copy()\n",
    "    change_df.reset_index(inplace=True, drop=True)\n",
    "    day_change_idx = list(change_df[['year', 'month', 'day']].drop_duplicates().index)\n",
    "\n",
    "    # 병렬처리\n",
    "    # seg_lst = []\n",
    "    # for i in range(len(day_change_idx) - 1):\n",
    "    #     hour_idx = change_df.iloc[day_change_idx[i]:day_change_idx[i + 1] + 1, :4].drop_duplicates().index\n",
    "    #     seg_lst.append(change_df.iloc[hour_idx])\n",
    "    # result_lst = Parallel(n_jobs=6)(delayed(get_info)(seg) for seg in tqdm(seg_lst))\n",
    "    # result_df = pd.concat(result_lst).sort_values(by=['time'])\n",
    "    \n",
    "    result_df=get_info(change_df)\n",
    "    print(f'Saving {number}...')\n",
    "    result_df.to_csv(f'Database/{number}_new.csv')\n",
    "    print(f'Saved {number}!\\n')"
   ],
   "metadata": {
    "collapsed": false,
    "ExecuteTime": {
     "end_time": "2024-08-06T13:39:22.967341900Z",
     "start_time": "2024-08-06T13:38:02.412276600Z"
    }
   },
   "execution_count": 7
  }
 ],
 "metadata": {
  "kernelspec": {
   "display_name": "spacemap",
   "language": "python",
   "name": "python3"
  },
  "language_info": {
   "codemirror_mode": {
    "name": "ipython",
    "version": 3
   },
   "file_extension": ".py",
   "mimetype": "text/x-python",
   "name": "python",
   "nbconvert_exporter": "python",
   "pygments_lexer": "ipython3",
   "version": "3.10.14"
  }
 },
 "nbformat": 4,
 "nbformat_minor": 2
}
