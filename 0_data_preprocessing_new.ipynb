{
 "cells": [
  {
   "cell_type": "code",
   "execution_count": 1,
   "metadata": {
    "ExecuteTime": {
     "end_time": "2024-08-07T05:01:43.263175600Z",
     "start_time": "2024-08-07T05:01:41.507497700Z"
    }
   },
   "outputs": [],
   "source": [
    "import requests\n",
    "import numpy as np\n",
    "import pandas as pd\n",
    "from tqdm import tqdm\n",
    "from sgp4.api import Satrec\n",
    "from sgp4.ext import invjday\n",
    "from astropy.time import Time\n",
    "from astropy import units as u\n",
    "from sgp4.conveniences import jday\n",
    "from joblib import Parallel, delayed\n",
    "from astropy.coordinates import ITRS\n",
    "from datetime import datetime, timedelta\n",
    "from astropy.coordinates import TEME, CartesianDifferential, CartesianRepresentation"
   ]
  },
  {
   "cell_type": "code",
   "outputs": [],
   "source": [
    "username = 'asas4539@hanyang.ac.kr'\n",
    "password = 'onsaemiro1729!!'"
   ],
   "metadata": {
    "collapsed": false,
    "ExecuteTime": {
     "end_time": "2024-08-07T05:01:43.278747900Z",
     "start_time": "2024-08-07T05:01:43.265244900Z"
    }
   },
   "execution_count": 2
  },
  {
   "cell_type": "code",
   "execution_count": 3,
   "metadata": {
    "ExecuteTime": {
     "end_time": "2024-08-07T05:01:43.296273700Z",
     "start_time": "2024-08-07T05:01:43.281913800Z"
    }
   },
   "outputs": [],
   "source": [
    "def get_tle(sat_num):\n",
    "    # Space-Track API의 URL\n",
    "    url = \"https://www.space-track.org/ajaxauth/login\"\n",
    "    payload = {\"identity\": username, \"password\": password}\n",
    "\n",
    "    session = requests.Session()\n",
    "    response = session.post(url, data=payload)\n",
    "    if response.status_code != 200:\n",
    "        print(\"로그인에 실패했습니다.\")\n",
    "        return None\n",
    "    response = session.get(\n",
    "        f\"https://www.space-track.org/basicspacedata/query/class/tle/NORAD_CAT_ID/{sat_num}/EPOCH/2022-12-31--2024-08-01/orderby/EPOCH%20asc/format/3le/emptyresult/show\"\n",
    "    )\n",
    "\n",
    "    return response"
   ]
  },
  {
   "cell_type": "code",
   "outputs": [],
   "source": [
    "def get_info(change_df):\n",
    "    all_info = []\n",
    "    earth_radius = 6378.137\n",
    "    rad2deg = 180.0 / 3.141592653589793\n",
    "\n",
    "    for i in range(len(change_df) - 1):\n",
    "        sat_info = change_df.iloc[i]\n",
    "        next_sat_info = change_df.iloc[i + 1]\n",
    "\n",
    "        tle_1, tle_2 = sat_info['first_line'], sat_info['second_line']\n",
    "        satellite = Satrec.twoline2rv(tle_1, tle_2)\n",
    "        jdsatepoch = satellite.jdsatepoch\n",
    "        jdsatepochfrac = satellite.jdsatepochF\n",
    "        epochdatetime = list(invjday(jdsatepoch + jdsatepochfrac))\n",
    "        epochdatetime[-1] = int(epochdatetime[-1])\n",
    "\n",
    "        next_tle_1, next_tle_2 = next_sat_info['first_line'], next_sat_info['second_line']\n",
    "        next_satellite = Satrec.twoline2rv(next_tle_1, next_tle_2)\n",
    "        next_jdsatepoch = next_satellite.jdsatepoch\n",
    "        next_jdsatepochfrac = next_satellite.jdsatepochF\n",
    "        next_epochdatetime = list(invjday(next_jdsatepoch + next_jdsatepochfrac))\n",
    "        next_epochdatetime[-1] = int(next_epochdatetime[-1])\n",
    "\n",
    "        start = datetime(*epochdatetime)\n",
    "        end = datetime(*next_epochdatetime)\n",
    "        end += timedelta(minutes=1)\n",
    "        epoch = start\n",
    "        jd_lst = []\n",
    "        fr_lst = []\n",
    "        time_lst = []\n",
    "\n",
    "        while (epoch < end):\n",
    "            year = epoch.year\n",
    "            month = epoch.month\n",
    "            day = epoch.day\n",
    "            hour = epoch.hour\n",
    "            minute = epoch.minute\n",
    "            second = epoch.second\n",
    "            jd, fr = jday(year, month, day, hour, minute, second)\n",
    "\n",
    "            time_lst.append(pd.to_datetime(epoch))\n",
    "            jd_lst.append(jd)\n",
    "            fr_lst.append(fr)\n",
    "            epoch += timedelta(minutes=1)\n",
    "\n",
    "        e, r, v = satellite.sgp4_array(np.array(jd_lst), np.array(fr_lst))\n",
    "        t_lst = Time(list(np.array(jd_lst) + np.array(fr_lst)), format='jd')\n",
    "        teme_p = CartesianRepresentation(r[:, 0] * u.km, r[:, 1] * u.km, r[:, 2] * u.km)\n",
    "        teme_v = CartesianDifferential(v[:, 0] * u.km / u.s, v[:, 1] * u.km / u.s, v[:, 2] * u.km / u.s)\n",
    "        teme = TEME(teme_p.with_differentials(teme_v), obstime=t_lst)\n",
    "        itrs_geo = teme.transform_to(ITRS(obstime=t_lst))\n",
    "        locations = itrs_geo.earth_location\n",
    "        geodetic_coords = locations.geodetic\n",
    "\n",
    "        segment_df = pd.DataFrame({\n",
    "            'time': time_lst,\n",
    "            'x': r[:, 0], 'y': r[:, 1], 'z': r[:, 2],\n",
    "            'vx': v[:, 0], 'vy': v[:, 1], 'vz': v[:, 2],\n",
    "            'x_earth': teme_p.x.value, 'y_earth': teme_p.y.value, 'z_earth': teme_p.z.value,\n",
    "            'vx_earth': teme_v.d_x.value, 'vy_earth': teme_v.d_y.value, 'vz_earth': teme_v.d_z.value,\n",
    "            'altitude': (r[:, 0] ** 2 + r[:, 1] ** 2 + r[:, 2] ** 2) ** 0.5,\n",
    "            'velocity': (v[:, 0] ** 2 + v[:, 1] ** 2 + v[:, 2] ** 2) ** 0.5,\n",
    "            'apogee': [satellite.alta * earth_radius] * len(time_lst),\n",
    "            'perigee': [satellite.altp * earth_radius] * len(time_lst),\n",
    "            'inclination': [satellite.inclo * rad2deg] * len(time_lst),\n",
    "            'eccentricity': [satellite.ecco] * len(time_lst),\n",
    "            'raan': [satellite.nodeo] * len(time_lst),\n",
    "            'longitude': geodetic_coords.lon.value,\n",
    "            'latitude': geodetic_coords.lat.value,\n",
    "            'height': geodetic_coords.height.value,\n",
    "        })\n",
    "        all_info.append(segment_df)\n",
    "\n",
    "    result = pd.concat(all_info).reset_index(drop=True)\n",
    "    result['time'] = pd.to_datetime(result['time'])\n",
    "    result = result.set_index('time')\n",
    "    result.sort_index(inplace=True)\n",
    "\n",
    "    return result"
   ],
   "metadata": {
    "collapsed": false,
    "ExecuteTime": {
     "end_time": "2024-08-07T05:01:43.328663400Z",
     "start_time": "2024-08-07T05:01:43.295229600Z"
    }
   },
   "execution_count": 4
  },
  {
   "cell_type": "code",
   "outputs": [],
   "source": [
    "number_lst = [39227, 44343, 44349, 44350, 44351, 44353, 44358, 58464, 46267, 53611, 53019, 51961, 47775, 51969, 58722, 56361,\n",
    "              56289, 56783, 48018, 43823, 45246, 29349, 37265, 42691, 42984, 55841]\n",
    "\n",
    "to_do_lst = []"
   ],
   "metadata": {
    "collapsed": false,
    "ExecuteTime": {
     "end_time": "2024-08-07T05:01:43.340995500Z",
     "start_time": "2024-08-07T05:01:43.328663400Z"
    }
   },
   "execution_count": 5
  },
  {
   "cell_type": "code",
   "outputs": [
    {
     "name": "stdout",
     "output_type": "stream",
     "text": [
      "39227\n"
     ]
    },
    {
     "name": "stderr",
     "output_type": "stream",
     "text": [
      "100%|██████████| 573/573 [00:18<00:00, 30.51it/s]\n"
     ]
    },
    {
     "name": "stdout",
     "output_type": "stream",
     "text": [
      "Saving 39227...\n",
      "Saved 39227!\n"
     ]
    }
   ],
   "source": [
    "for number in [39227]:\n",
    "    print(number)\n",
    "    # TLE_df 생성\n",
    "    response = get_tle(number)\n",
    "    tle_datas = response.text.split('\\r\\n')\n",
    "    tle_first_lst = []\n",
    "    tle_second_lst = []\n",
    "    for i in range(0, len(tle_datas) - 2, 3):\n",
    "        tle_first_lst.append(tle_datas[i + 1])\n",
    "        tle_second_lst.append(tle_datas[i + 2])\n",
    "    tle_df = pd.DataFrame({'first_line': tle_first_lst, 'second_line': tle_second_lst})\n",
    "    tle_df.drop_duplicates(keep='first', inplace=True)\n",
    "    tle_df.reset_index(inplace=True, drop=True)\n",
    "\n",
    "    # change_df 생성\n",
    "    change_times = []\n",
    "    for i in range(len(tle_df)):\n",
    "        tle_1, tle_2 = tle_df['first_line'].iloc[i], tle_df['second_line'].iloc[i]\n",
    "        satellite = Satrec.twoline2rv(tle_1, tle_2)\n",
    "        jdsatepoch = satellite.jdsatepoch\n",
    "        jdsatepochfrac = satellite.jdsatepochF\n",
    "        epochdatetime = invjday(jdsatepoch + jdsatepochfrac)\n",
    "        change_times.append(epochdatetime)\n",
    "    change_df = pd.DataFrame(change_times)\n",
    "    change_df.columns = ['year', 'month', 'day', 'hour', 'minute', 'second']\n",
    "    change_df['first_line'] = tle_df['first_line']\n",
    "    change_df['second_line'] = tle_df['second_line']\n",
    "    change_df['time'] = pd.to_datetime(change_df[['year', 'month', 'day', 'hour', 'minute', 'second']])\n",
    "    change_df['time'].drop_duplicates(keep='first', inplace=True)\n",
    "\n",
    "    # end point 삽입 및 day_change_idx 추출\n",
    "    end_point = change_df.iloc[-1:].copy()\n",
    "    end_point['month'] = 8\n",
    "    end_point['day'] = 1\n",
    "    end_point['hour'] = 0\n",
    "    end_point['minute'] = 0\n",
    "    end_point['second'] = 0\n",
    "    end_point['time'] = pd.to_datetime(end_point[['year', 'month', 'day', 'hour', 'minute', 'second']])\n",
    "    change_df = pd.concat([change_df, end_point], axis=0).copy()\n",
    "    change_df.reset_index(inplace=True, drop=True)\n",
    "    day_change_idx = list(change_df[['year', 'month', 'day']].drop_duplicates().index)\n",
    "\n",
    "    # 병렬처리\n",
    "    seg_lst = []\n",
    "    for i in range(len(day_change_idx) - 1):\n",
    "        hour_idx = change_df.iloc[day_change_idx[i]:day_change_idx[i + 1] + 1, :4].drop_duplicates().index\n",
    "        seg_lst.append(change_df.iloc[hour_idx])\n",
    "    result_lst = Parallel(n_jobs=5)(delayed(get_info)(seg) for seg in tqdm(seg_lst))\n",
    "    result_df = pd.concat(result_lst).sort_values(by=['time'])\n",
    "\n",
    "    print(f'Saving {number}...')\n",
    "    result_df.to_csv(f'Database/{number}_new.csv')\n",
    "    print(f'Saved {number}!\\n')"
   ],
   "metadata": {
    "collapsed": false,
    "ExecuteTime": {
     "end_time": "2024-08-07T05:18:55.788558Z",
     "start_time": "2024-08-07T05:18:10.608492100Z"
    }
   },
   "execution_count": 7
  }
 ],
 "metadata": {
  "kernelspec": {
   "display_name": "spacemap",
   "language": "python",
   "name": "python3"
  },
  "language_info": {
   "codemirror_mode": {
    "name": "ipython",
    "version": 3
   },
   "file_extension": ".py",
   "mimetype": "text/x-python",
   "name": "python",
   "nbconvert_exporter": "python",
   "pygments_lexer": "ipython3",
   "version": "3.10.14"
  }
 },
 "nbformat": 4,
 "nbformat_minor": 2
}
