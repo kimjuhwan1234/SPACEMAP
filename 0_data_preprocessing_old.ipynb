{
 "cells": [
  {
   "cell_type": "code",
   "outputs": [],
   "source": [
    "import requests\n",
    "import numpy as np\n",
    "import pandas as pd\n",
    "import matplotlib.pyplot as plt\n",
    "from tqdm import tqdm\n",
    "from sgp4.ext import invjday\n",
    "from sgp4.api import Satrec, jday\n",
    "from joblib import Parallel, delayed\n",
    "from datetime import datetime, timedelta\n",
    "from skyfield.api import load, wgs84, EarthSatellite"
   ],
   "metadata": {
    "collapsed": false,
    "ExecuteTime": {
     "end_time": "2024-08-06T05:51:39.333679700Z",
     "start_time": "2024-08-06T05:51:38.071568Z"
    }
   },
   "execution_count": 1
  },
  {
   "cell_type": "code",
   "outputs": [],
   "source": [
    "username = 'asas4539@hanyang.ac.kr'\n",
    "password = 'onsaemiro1729!!'"
   ],
   "metadata": {
    "collapsed": false,
    "ExecuteTime": {
     "end_time": "2024-08-06T05:51:39.349171400Z",
     "start_time": "2024-08-06T05:51:39.335755600Z"
    }
   },
   "execution_count": 2
  },
  {
   "cell_type": "code",
   "outputs": [],
   "source": [
    "def get_tle(number):\n",
    "    # Space-Track API의 URL\n",
    "    url = \"https://www.space-track.org/ajaxauth/login\"\n",
    "\n",
    "    # 요청에 필요한 인증 정보\n",
    "    payload = {\"identity\": username, \"password\": password}\n",
    "\n",
    "    # Session 객체 생성\n",
    "    session = requests.Session()\n",
    "\n",
    "    # 로그인 요청\n",
    "    response = session.post(url, data=payload)\n",
    "\n",
    "    if response.status_code != 200:\n",
    "        print(\"로그인에 실패했습니다.\")\n",
    "        return None\n",
    "\n",
    "    # TLE 요청\n",
    "    response = session.get(\n",
    "        f\"https://www.space-track.org/basicspacedata/query/class/tle/NORAD_CAT_ID/{number}/EPOCH/2022-12-31--2024-07-31/orderby/EPOCH%20asc/format/3le/emptyresult/show\"\n",
    "    )\n",
    "\n",
    "    return response"
   ],
   "metadata": {
    "collapsed": false,
    "ExecuteTime": {
     "end_time": "2024-08-06T05:51:39.366804600Z",
     "start_time": "2024-08-06T05:51:39.352290900Z"
    }
   },
   "execution_count": 3
  },
  {
   "cell_type": "code",
   "outputs": [],
   "source": [
    "def set_plot_params(title, ylabel):\n",
    "    plt.title(title)\n",
    "    plt.ylabel(ylabel, fontsize=12)\n",
    "    plt.xlabel(\"Date\", fontsize=12)\n",
    "    plt.yticks(fontsize=12)\n",
    "    plt.xticks(rotation=30, fontsize=12)\n",
    "    plt.gca().xaxis.set_major_locator(plt.MultipleLocator(30))\n",
    "\n",
    "\n",
    "def calculate_ylim(data):\n",
    "    ylim_min = min(data) - (max(data) - min(data)) * 0.1\n",
    "    ylim_max = max(data) + (max(data) - min(data)) * 0.1\n",
    "    return ylim_min, ylim_max\n",
    "\n",
    "\n",
    "def draw_graph(data: pd.DataFrame, title: str, ylabel: str, date_lst: list, color=\"blue\"):\n",
    "    '''\n",
    "    :param data: 시간 인덱스와 그래프로 표시할 정보가 있는 데이터프레임\n",
    "    :param title: 그래프 제목\n",
    "    :param ylabel: 그래프 y축 단위\n",
    "    :param date_lst: 아웃라이어 날짜인덱스 리스트\n",
    "    :param color: 그래프 색깔\n",
    "    :return: \n",
    "    '''\n",
    "    plt.figure(figsize=(10, 5))\n",
    "    plt.plot(data.index, data.values, color=color)\n",
    "    for date in date_lst:\n",
    "        plt.axvline(pd.to_datetime(date), color='red', linestyle='--', label='Highlight Date')\n",
    "    set_plot_params(title, ylabel)\n",
    "    ylim_min, ylim_max = calculate_ylim(list(data.values))\n",
    "    plt.ylim(ylim_min, ylim_max)\n",
    "    plt.show()"
   ],
   "metadata": {
    "collapsed": false,
    "ExecuteTime": {
     "end_time": "2024-08-06T05:51:39.383825Z",
     "start_time": "2024-08-06T05:51:39.369894Z"
    }
   },
   "execution_count": 4
  },
  {
   "cell_type": "code",
   "execution_count": 5,
   "metadata": {
    "ExecuteTime": {
     "end_time": "2024-08-06T05:51:39.400420500Z",
     "start_time": "2024-08-06T05:51:39.391033700Z"
    }
   },
   "outputs": [],
   "source": [
    "def get_info(seg):\n",
    "    change_df_seg = seg\n",
    "\n",
    "    start_info = change_df_seg.iloc[0]\n",
    "    epoch = datetime(start_info['year'], start_info['month'], start_info['day'], start_info['hour'],\n",
    "                     start_info['minute'], int(start_info['second']))\n",
    "    epoch += timedelta(minutes=1)\n",
    "\n",
    "    end_info = change_df_seg.iloc[-1]\n",
    "    end_epoch = datetime(end_info['year'], end_info['month'], end_info['day'], end_info['hour'], end_info['minute'],\n",
    "                         int(end_info['second']))\n",
    "\n",
    "    all_info = []\n",
    "\n",
    "    rad2deg = 180.0 / np.pi\n",
    "    earth_radius = 6378.137\n",
    "\n",
    "    while epoch <= end_epoch:\n",
    "        # print(epoch)\n",
    "        year = epoch.year\n",
    "        month = epoch.month\n",
    "        date = epoch.day\n",
    "        hour = epoch.hour\n",
    "        minute = epoch.minute\n",
    "        second = epoch.second\n",
    "\n",
    "        now_time = f'{year}-{month}-{date} {hour}:{minute}:{second}'\n",
    "        temp = change_df[change_df['time'] <= pd.to_datetime(now_time)].copy()\n",
    "        tle1, tle2 = temp.iloc[-1]['first_line'], temp.iloc[-1]['second_line']\n",
    "\n",
    "        satellite = Satrec.twoline2rv(tle1, tle2)\n",
    "        jd, fr = jday(year, month, date, hour, minute, second)\n",
    "        e, position, velocity = satellite.sgp4(jd, fr)\n",
    "\n",
    "        # 추가된 부분\n",
    "        ts = load.timescale()\n",
    "        t = ts.utc(year, month, date, hour, minute, second)\n",
    "        earth_satellite = EarthSatellite(tle1, tle2, '', ts)\n",
    "        geocentric = earth_satellite.at(t)\n",
    "        subpoint = wgs84.subpoint(geocentric)\n",
    "        latitude = subpoint.latitude.degrees\n",
    "        longitude = subpoint.longitude.degrees\n",
    "\n",
    "        all_info.append([\n",
    "            len(temp), tle1, tle2,\n",
    "            epoch.year, epoch.month, epoch.day, epoch.hour, epoch.minute, epoch.second,\n",
    "            *position, *velocity,\n",
    "            (sum(p ** 2 for p in\n",
    "                 position) ** 0.5) - earth_radius,\n",
    "            (sum(v ** 2 for v in velocity) ** 0.5) / earth_radius,\n",
    "            longitude,\n",
    "            satellite.alta * earth_radius,\n",
    "            satellite.altp * earth_radius,\n",
    "            satellite.inclo * rad2deg, satellite.ecco,\n",
    "            satellite.nodeo\n",
    "        ])\n",
    "\n",
    "        epoch += timedelta(minutes=1)\n",
    "\n",
    "    info_df = pd.DataFrame(all_info)\n",
    "\n",
    "    info_df.columns = ['change', 'tle1', 'tle2',\n",
    "                       'year', 'month', 'day', 'hour', 'minute', 'second',\n",
    "                       'x', 'y', 'z', 'vx', 'vy', 'vz',\n",
    "                       'altitude', 'velocity', 'longitude',\n",
    "                       'apogee', 'perigee',\n",
    "                       'inclination', 'eccentricity', 'raan']\n",
    "\n",
    "    return info_df"
   ]
  },
  {
   "cell_type": "code",
   "outputs": [],
   "source": [
    "number_lst = [44343, 44349, 44350, 44351, 44353, 44358, 58464, 46267, 53611, 53019, 51961, 47775, 51969, 58722, 56361,\n",
    "              56289, 56783, 48018, 43823, 45246, 29349, 37265, 42691, 42984, 55841]\n",
    "\n",
    "to_do_lst = []"
   ],
   "metadata": {
    "collapsed": false,
    "ExecuteTime": {
     "end_time": "2024-08-06T05:51:39.413946400Z",
     "start_time": "2024-08-06T05:51:39.397357100Z"
    }
   },
   "execution_count": 6
  },
  {
   "cell_type": "code",
   "execution_count": 7,
   "metadata": {
    "ExecuteTime": {
     "end_time": "2024-08-06T11:55:30.143618200Z",
     "start_time": "2024-08-06T05:51:39.421175500Z"
    }
   },
   "outputs": [
    {
     "name": "stdout",
     "output_type": "stream",
     "text": [
      "44343\n"
     ]
    },
    {
     "name": "stderr",
     "output_type": "stream",
     "text": [
      "100%|██████████| 536/536 [16:07<00:00,  1.80s/it]\n"
     ]
    },
    {
     "name": "stdout",
     "output_type": "stream",
     "text": [
      "44349\n"
     ]
    },
    {
     "name": "stderr",
     "output_type": "stream",
     "text": [
      "100%|██████████| 544/544 [16:02<00:00,  1.77s/it]\n"
     ]
    },
    {
     "name": "stdout",
     "output_type": "stream",
     "text": [
      "44350\n"
     ]
    },
    {
     "name": "stderr",
     "output_type": "stream",
     "text": [
      "100%|██████████| 540/540 [16:02<00:00,  1.78s/it]\n"
     ]
    },
    {
     "name": "stdout",
     "output_type": "stream",
     "text": [
      "44351\n"
     ]
    },
    {
     "name": "stderr",
     "output_type": "stream",
     "text": [
      "100%|██████████| 560/560 [15:38<00:00,  1.68s/it]\n"
     ]
    },
    {
     "name": "stdout",
     "output_type": "stream",
     "text": [
      "44353\n"
     ]
    },
    {
     "name": "stderr",
     "output_type": "stream",
     "text": [
      "100%|██████████| 536/536 [14:33<00:00,  1.63s/it]\n"
     ]
    },
    {
     "name": "stdout",
     "output_type": "stream",
     "text": [
      "44358\n"
     ]
    },
    {
     "name": "stderr",
     "output_type": "stream",
     "text": [
      "100%|██████████| 549/549 [14:22<00:00,  1.57s/it]\n"
     ]
    },
    {
     "name": "stdout",
     "output_type": "stream",
     "text": [
      "58464\n"
     ]
    },
    {
     "name": "stderr",
     "output_type": "stream",
     "text": [
      "100%|██████████| 240/240 [05:57<00:00,  1.49s/it]\n"
     ]
    },
    {
     "name": "stdout",
     "output_type": "stream",
     "text": [
      "46267\n"
     ]
    },
    {
     "name": "stderr",
     "output_type": "stream",
     "text": [
      "100%|██████████| 567/567 [14:21<00:00,  1.52s/it]\n"
     ]
    },
    {
     "name": "stdout",
     "output_type": "stream",
     "text": [
      "53611\n"
     ]
    },
    {
     "name": "stderr",
     "output_type": "stream",
     "text": [
      "100%|██████████| 559/559 [14:28<00:00,  1.55s/it]\n"
     ]
    },
    {
     "name": "stdout",
     "output_type": "stream",
     "text": [
      "53019\n"
     ]
    },
    {
     "name": "stderr",
     "output_type": "stream",
     "text": [
      "100%|██████████| 564/564 [15:06<00:00,  1.61s/it]\n"
     ]
    },
    {
     "name": "stdout",
     "output_type": "stream",
     "text": [
      "51961\n"
     ]
    },
    {
     "name": "stderr",
     "output_type": "stream",
     "text": [
      "100%|██████████| 564/564 [14:58<00:00,  1.59s/it]\n"
     ]
    },
    {
     "name": "stdout",
     "output_type": "stream",
     "text": [
      "47775\n"
     ]
    },
    {
     "name": "stderr",
     "output_type": "stream",
     "text": [
      "100%|██████████| 563/563 [16:17<00:00,  1.74s/it]\n"
     ]
    },
    {
     "name": "stdout",
     "output_type": "stream",
     "text": [
      "51969\n"
     ]
    },
    {
     "name": "stderr",
     "output_type": "stream",
     "text": [
      "100%|██████████| 565/565 [16:08<00:00,  1.71s/it]\n"
     ]
    },
    {
     "name": "stdout",
     "output_type": "stream",
     "text": [
      "58722\n"
     ]
    },
    {
     "name": "stderr",
     "output_type": "stream",
     "text": [
      "100%|██████████| 200/200 [05:40<00:00,  1.70s/it]\n"
     ]
    },
    {
     "name": "stdout",
     "output_type": "stream",
     "text": [
      "56361\n"
     ]
    },
    {
     "name": "stderr",
     "output_type": "stream",
     "text": [
      "100%|██████████| 443/443 [11:14<00:00,  1.52s/it]\n"
     ]
    },
    {
     "name": "stdout",
     "output_type": "stream",
     "text": [
      "56289\n"
     ]
    },
    {
     "name": "stderr",
     "output_type": "stream",
     "text": [
      "100%|██████████| 456/456 [11:35<00:00,  1.53s/it]\n"
     ]
    },
    {
     "name": "stdout",
     "output_type": "stream",
     "text": [
      "56783\n"
     ]
    },
    {
     "name": "stderr",
     "output_type": "stream",
     "text": [
      "100%|██████████| 411/411 [10:20<00:00,  1.51s/it]\n"
     ]
    },
    {
     "name": "stdout",
     "output_type": "stream",
     "text": [
      "48018\n"
     ]
    },
    {
     "name": "stderr",
     "output_type": "stream",
     "text": [
      "100%|██████████| 563/563 [14:19<00:00,  1.53s/it]\n"
     ]
    },
    {
     "name": "stdout",
     "output_type": "stream",
     "text": [
      "43823\n"
     ]
    },
    {
     "name": "stderr",
     "output_type": "stream",
     "text": [
      "100%|██████████| 509/509 [14:18<00:00,  1.69s/it]\n"
     ]
    },
    {
     "name": "stdout",
     "output_type": "stream",
     "text": [
      "45246\n"
     ]
    },
    {
     "name": "stderr",
     "output_type": "stream",
     "text": [
      "100%|██████████| 470/470 [14:14<00:00,  1.82s/it]\n"
     ]
    },
    {
     "name": "stdout",
     "output_type": "stream",
     "text": [
      "29349\n"
     ]
    },
    {
     "name": "stderr",
     "output_type": "stream",
     "text": [
      "100%|██████████| 561/561 [14:20<00:00,  1.53s/it]\n"
     ]
    },
    {
     "name": "stdout",
     "output_type": "stream",
     "text": [
      "37265\n"
     ]
    },
    {
     "name": "stderr",
     "output_type": "stream",
     "text": [
      "100%|██████████| 562/562 [15:58<00:00,  1.71s/it]\n"
     ]
    },
    {
     "name": "stdout",
     "output_type": "stream",
     "text": [
      "42691\n"
     ]
    },
    {
     "name": "stderr",
     "output_type": "stream",
     "text": [
      "100%|██████████| 539/539 [16:05<00:00,  1.79s/it]\n"
     ]
    },
    {
     "name": "stdout",
     "output_type": "stream",
     "text": [
      "42984\n"
     ]
    },
    {
     "name": "stderr",
     "output_type": "stream",
     "text": [
      "100%|██████████| 548/548 [16:09<00:00,  1.77s/it]\n"
     ]
    },
    {
     "name": "stdout",
     "output_type": "stream",
     "text": [
      "55841\n"
     ]
    },
    {
     "name": "stderr",
     "output_type": "stream",
     "text": [
      "100%|██████████| 485/485 [14:08<00:00,  1.75s/it]\n"
     ]
    }
   ],
   "source": [
    "for number in number_lst:\n",
    "    try:\n",
    "        print(number)\n",
    "        response = get_tle(number)\n",
    "        tle_datas = response.text.split('\\r\\n')\n",
    "\n",
    "        tle_first_lst = []\n",
    "        tle_second_lst = []\n",
    "\n",
    "        for i in range(0, len(tle_datas) - 2, 3):\n",
    "            tle_first_lst.append(tle_datas[i + 1])\n",
    "            tle_second_lst.append(tle_datas[i + 2])\n",
    "\n",
    "        tle_df = pd.DataFrame({'first_line': tle_first_lst, 'second_line': tle_second_lst})\n",
    "        tle_df.drop_duplicates(keep='first', inplace=True)\n",
    "        tle_df.reset_index(inplace=True, drop=True)\n",
    "\n",
    "        change_times = []\n",
    "        for i in range(len(tle_df)):\n",
    "            tle_1, tle_2 = tle_df['first_line'].iloc[i], tle_df['second_line'].iloc[i]\n",
    "            satellite = Satrec.twoline2rv(tle_1, tle_2)\n",
    "            jdsatepoch = satellite.jdsatepoch\n",
    "            jdsatepochfrac = satellite.jdsatepochF\n",
    "            epochdatetime = invjday(jdsatepoch + jdsatepochfrac)\n",
    "            change_times.append(epochdatetime)\n",
    "\n",
    "        change_df = pd.DataFrame(change_times)\n",
    "        change_df.columns = ['year', 'month', 'day', 'hour', 'minute', 'second']\n",
    "        change_df['first_line'] = tle_df['first_line']\n",
    "        change_df['second_line'] = tle_df['second_line']\n",
    "        change_df['time'] = pd.to_datetime(change_df[['year', 'month', 'day', 'hour', 'minute', 'second']])\n",
    "        change_df['time'].drop_duplicates(keep='first', inplace=True)\n",
    "\n",
    "        end_point = change_df.iloc[-1:].copy()\n",
    "        end_point['day'] = end_point['day'] + 1\n",
    "        end_point['hour'] = 0\n",
    "        end_point['minute'] = 0\n",
    "        end_point['second'] = 0\n",
    "        end_point['time'] = pd.to_datetime(end_point[['year', 'month', 'day', 'hour', 'minute', 'second']])\n",
    "\n",
    "        change_df = pd.concat([change_df, end_point], axis=0).copy()\n",
    "        change_df.reset_index(inplace=True, drop=True)\n",
    "        day_change_idx = list(change_df[['year', 'month', 'day']].drop_duplicates().index)\n",
    "\n",
    "        seg_lst = []\n",
    "\n",
    "        for i in range(len(day_change_idx) - 1):\n",
    "            seg_lst.append(change_df.iloc[day_change_idx[i]:day_change_idx[i + 1] + 1].copy())\n",
    "\n",
    "        results = Parallel(n_jobs=5)(delayed(get_info)(seg) for seg in tqdm(seg_lst))\n",
    "        rslt = pd.concat(results)\n",
    "\n",
    "        rslt.sort_values(by=['year', 'month', 'day', 'hour', 'minute', 'second']).reset_index(drop=True).to_csv(\n",
    "            f'Database/{number}.csv')\n",
    "\n",
    "    except:\n",
    "        to_do_lst.append(number)"
   ]
  },
  {
   "cell_type": "code",
   "execution_count": 8,
   "metadata": {
    "ExecuteTime": {
     "end_time": "2024-08-06T11:55:30.159007400Z",
     "start_time": "2024-08-06T11:55:30.145662600Z"
    }
   },
   "outputs": [
    {
     "name": "stdout",
     "output_type": "stream",
     "text": [
      "[]\n"
     ]
    }
   ],
   "source": [
    "print(to_do_lst)"
   ]
  },
  {
   "cell_type": "code",
   "outputs": [],
   "source": [
    "# name = 'longitude'\n",
    "# df = rslt[['year', 'month', 'day', 'hour', 'minute', 'second', name]]\n",
    "# \n",
    "# df_1 = df.copy()\n",
    "# df_1.loc[:, 'datetime'] = pd.to_datetime(df_1[['year', 'month', 'day', 'hour', 'minute', 'second']])\n",
    "# df_1.set_index('datetime', inplace=True)\n",
    "# df_1.drop(columns=['year', 'month', 'day', 'hour', 'minute', 'second'], inplace=True)\n",
    "# \n",
    "# hour_df = df_1[::60].copy()\n",
    "# diff_df = np.log(hour_df[name]).diff().fillna(0)\n",
    "# \n",
    "# draw_graph(diff_df, name.upper(), 'km',\n",
    "#            pd.DataFrame(diff_df.iloc[[]].index.date).drop_duplicates().values.tolist(), \"blue\")"
   ],
   "metadata": {
    "collapsed": false,
    "ExecuteTime": {
     "end_time": "2024-08-06T11:55:30.181656300Z",
     "start_time": "2024-08-06T11:55:30.161088900Z"
    }
   },
   "execution_count": 9
  }
 ],
 "metadata": {
  "kernelspec": {
   "display_name": "spacemap",
   "language": "python",
   "name": "python3"
  },
  "language_info": {
   "codemirror_mode": {
    "name": "ipython",
    "version": 3
   },
   "file_extension": ".py",
   "mimetype": "text/x-python",
   "name": "python",
   "nbconvert_exporter": "python",
   "pygments_lexer": "ipython3",
   "version": "3.10.14"
  }
 },
 "nbformat": 4,
 "nbformat_minor": 2
}
