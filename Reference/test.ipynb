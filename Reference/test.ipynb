{
 "cells": [
  {
   "cell_type": "code",
   "execution_count": 13,
   "metadata": {
    "ExecuteTime": {
     "end_time": "2024-07-25T11:33:41.147212Z",
     "start_time": "2024-07-25T11:33:41.134854100Z"
    }
   },
   "outputs": [],
   "source": [
    "import requests\n",
    "import numpy as np\n",
    "import pandas as pd\n",
    "import math\n",
    "\n",
    "import json\n",
    "import time\n",
    "from datetime import datetime, timedelta\n",
    "import sgp4\n",
    "from sgp4.api import Satrec, WGS72\n",
    "from sgp4.conveniences import jday\n",
    "from sgp4.ext import invjday\n",
    "\n",
    "import matplotlib.pyplot as plt"
   ]
  },
  {
   "cell_type": "code",
   "outputs": [],
   "source": [
    "username = 'asas4539@hanyang.ac.kr'\n",
    "password = 'onsaemiro1729!!'"
   ],
   "metadata": {
    "collapsed": false,
    "ExecuteTime": {
     "end_time": "2024-07-25T11:33:41.330822200Z",
     "start_time": "2024-07-25T11:33:41.323584600Z"
    }
   },
   "execution_count": 14
  },
  {
   "cell_type": "code",
   "execution_count": 15,
   "metadata": {
    "ExecuteTime": {
     "end_time": "2024-07-25T11:33:41.518880700Z",
     "start_time": "2024-07-25T11:33:41.499312100Z"
    }
   },
   "outputs": [],
   "source": [
    "def get_tle():\n",
    "    # Space-Track API의 URL\n",
    "    url = \"https://www.space-track.org/ajaxauth/login\"\n",
    "\n",
    "    # 요청에 필요한 인증 정보\n",
    "    payload = {\"identity\": username, \"password\": password}\n",
    "\n",
    "    # Session 객체 생성\n",
    "    session = requests.Session()\n",
    "\n",
    "    # 로그인 요청\n",
    "    response = session.post(url, data=payload)\n",
    "\n",
    "    if response.status_code != 200:\n",
    "        print(\"로그인에 실패했습니다.\")\n",
    "        return None\n",
    "\n",
    "    # TLE 요청\n",
    "    response = session.get(\n",
    "        f\"https://www.space-track.org/basicspacedata/query/class/tle/NORAD_CAT_ID/58400/EPOCH/2022-12-31--2024-07-25/orderby/EPOCH%20asc/format/3le/emptyresult/show\"\n",
    "    )#\n",
    "\n",
    "    return response"
   ]
  },
  {
   "cell_type": "code",
   "execution_count": 16,
   "metadata": {
    "ExecuteTime": {
     "end_time": "2024-07-25T11:33:41.718376900Z",
     "start_time": "2024-07-25T11:33:41.699842200Z"
    }
   },
   "outputs": [],
   "source": [
    "def get_info(seg):\n",
    "    change_df_seg = seg\n",
    "\n",
    "    start_info = change_df_seg.iloc[0]\n",
    "    epoch = datetime(start_info['year'], start_info['month'], start_info['day'], start_info['hour'], start_info['minute'], int(start_info['second']))\n",
    "    epoch += timedelta(seconds=1)\n",
    "    \n",
    "    end_info = change_df_seg.iloc[-1]\n",
    "    end_epoch = datetime(end_info['year'], end_info['month'], end_info['day'], end_info['hour'], end_info['minute'], int(end_info['second']))\n",
    "\n",
    "    all_info = []\n",
    "\n",
    "    earth_radius = 6378.137\n",
    "    rad2deg = 180.0 / 3.141592653589793\n",
    "\n",
    "    while epoch <= end_epoch:\n",
    "        # print(epoch)\n",
    "        \n",
    "        year = epoch.year\n",
    "        month = epoch.month\n",
    "        date = epoch.day\n",
    "        hour = epoch.hour\n",
    "        minute = epoch.minute\n",
    "        second = epoch.second\n",
    "\n",
    "        now_time = str(year) +'-' + str(month) + '-' + str(date) + ' ' + str(hour) + ':' + str(minute) + ':' + str(second)\n",
    "        temp = change_df_seg[change_df_seg['time'] <= pd.to_datetime(now_time)].copy()\n",
    "\n",
    "        jd, fr =jday(year, month, date, hour, minute, second)\n",
    "\n",
    "        tle1, tle2 = temp.iloc[-1]['first_line'], temp.iloc[-1]['second_line']\n",
    "        satellite = Satrec.twoline2rv(tle1, tle2)\n",
    "\n",
    "        e, position, velocity = satellite.sgp4(jd, fr)\n",
    "\n",
    "        all_info.append([len(temp), tle1, tle2,\n",
    "                        year, month, date, hour, minute, second, \n",
    "                        position[0], position[1], position[2], velocity[0], velocity[1], velocity[2],\n",
    "                        (position[0]**2 + position[1]**2 + position[2]**2)**0.5, (velocity[0]**2 + velocity[1]**2 + velocity[2]**2)**0.5,\n",
    "                        satellite.alta * earth_radius , satellite.altp * earth_radius,\n",
    "                        satellite.inclo*rad2deg, satellite.ecco, satellite.nodeo])\n",
    "\n",
    "        epoch += timedelta(seconds=1)\n",
    "\n",
    "    info_df = pd.DataFrame(all_info)\n",
    "    info_df.columns = ['change', 'tle1','tle2',\n",
    "                        'year', 'month', 'day', 'hour', 'minute', 'second',\n",
    "                    'x', 'y', 'z', 'vx', 'vy', 'vz',\n",
    "                        'altitude', 'velocity', \n",
    "                        'apogee', 'perigee', \n",
    "                        'inclination', 'eccentricity', 'raan']\n",
    "        \n",
    "    return info_df"
   ]
  },
  {
   "cell_type": "code",
   "execution_count": 17,
   "metadata": {
    "ExecuteTime": {
     "end_time": "2024-07-25T11:33:43.485659200Z",
     "start_time": "2024-07-25T11:33:41.893135Z"
    }
   },
   "outputs": [],
   "source": [
    "response = get_tle()\n",
    "tle_datas = response.text.split('\\r\\n')\n",
    "\n",
    "tle_first_lst = []\n",
    "tle_second_lst = []\n",
    "\n",
    "for i in range(0, len(tle_datas)-2, 3):\n",
    "    tle_first_lst.append(tle_datas[i+1])\n",
    "    tle_second_lst.append(tle_datas[i+2])\n",
    "\n",
    "tle_df = pd.DataFrame({'first_line':tle_first_lst, 'second_line':tle_second_lst})\n",
    "tle_df.drop_duplicates(keep='first', inplace=True)\n",
    "tle_df.reset_index(inplace=True, drop=True)"
   ]
  },
  {
   "cell_type": "code",
   "execution_count": 18,
   "metadata": {
    "ExecuteTime": {
     "end_time": "2024-07-25T11:33:43.548434800Z",
     "start_time": "2024-07-25T11:33:43.490781600Z"
    }
   },
   "outputs": [],
   "source": [
    "change_times = []\n",
    "for i in range(len(tle_df)):\n",
    "    tle_1, tle_2 = tle_df['first_line'].iloc[i], tle_df['first_line'].iloc[i]\n",
    "    satellite = Satrec.twoline2rv(tle_1,tle_2)\n",
    "    jdsatepoch = satellite.jdsatepoch\n",
    "    jdsatepochfrac = satellite.jdsatepochF\n",
    "    epochdatetime = invjday(jdsatepoch + jdsatepochfrac)\n",
    "    change_times.append(epochdatetime)\n",
    "    \n",
    "change_df = pd.DataFrame(change_times)\n",
    "change_df.columns = ['year', 'month', 'day', 'hour', 'minute', 'second']\n",
    "change_df['first_line']=tle_df['first_line']\n",
    "change_df['second_line']=tle_df['second_line']\n",
    "change_df['time'] = change_df['year'].astype('str') + '-' + change_df['month'].astype('str') + '-' + change_df['day'].astype('str') + ' ' + change_df['hour'].astype('str') + ':' + change_df['minute'].astype('str') + ':' + change_df['second'].astype('int').astype('str')\n",
    "change_df['time'] = pd.to_datetime(change_df['time'])"
   ]
  },
  {
   "cell_type": "code",
   "execution_count": 19,
   "metadata": {
    "ExecuteTime": {
     "end_time": "2024-07-25T11:33:43.568025200Z",
     "start_time": "2024-07-25T11:33:43.548434800Z"
    }
   },
   "outputs": [
    {
     "data": {
      "text/plain": "      year  month  day  hour  minute  second  \\\n1098  2024      7   25     0       0       0   \n\n                                             first_line  \\\n1098  1 58400U 23179A   24206.93643670  .00007378  0...   \n\n                                            second_line       time  \n1098  2 58400  97.3982  93.1451 0003545  80.4808 279... 2024-07-25  ",
      "text/html": "<div>\n<style scoped>\n    .dataframe tbody tr th:only-of-type {\n        vertical-align: middle;\n    }\n\n    .dataframe tbody tr th {\n        vertical-align: top;\n    }\n\n    .dataframe thead th {\n        text-align: right;\n    }\n</style>\n<table border=\"1\" class=\"dataframe\">\n  <thead>\n    <tr style=\"text-align: right;\">\n      <th></th>\n      <th>year</th>\n      <th>month</th>\n      <th>day</th>\n      <th>hour</th>\n      <th>minute</th>\n      <th>second</th>\n      <th>first_line</th>\n      <th>second_line</th>\n      <th>time</th>\n    </tr>\n  </thead>\n  <tbody>\n    <tr>\n      <th>1098</th>\n      <td>2024</td>\n      <td>7</td>\n      <td>25</td>\n      <td>0</td>\n      <td>0</td>\n      <td>0</td>\n      <td>1 58400U 23179A   24206.93643670  .00007378  0...</td>\n      <td>2 58400  97.3982  93.1451 0003545  80.4808 279...</td>\n      <td>2024-07-25</td>\n    </tr>\n  </tbody>\n</table>\n</div>"
     },
     "execution_count": 19,
     "metadata": {},
     "output_type": "execute_result"
    }
   ],
   "source": [
    "end_point = change_df.iloc[-1:].copy()\n",
    "\n",
    "end_point['day'] = end_point['day'] + 1\n",
    "end_point['hour'] = 0\n",
    "end_point['minute'] = 0\n",
    "end_point['second'] = 0\n",
    "\n",
    "end_point['time'] = pd.to_datetime(end_point['year'].astype('str') + '-' + end_point['month'].astype('str') + '-' + end_point['day'].astype('str') + ' ' + end_point['hour'].astype('str') + ':' + end_point['minute'].astype('str') + ':' + end_point['second'].astype('int').astype('str'))\n",
    "end_point"
   ]
  },
  {
   "cell_type": "code",
   "execution_count": 20,
   "metadata": {
    "ExecuteTime": {
     "end_time": "2024-07-25T11:33:43.585440500Z",
     "start_time": "2024-07-25T11:33:43.564994400Z"
    }
   },
   "outputs": [],
   "source": [
    "change_df = pd.concat([change_df,end_point], axis=0).copy()\n",
    "change_df.reset_index(inplace=True, drop=True)"
   ]
  },
  {
   "cell_type": "code",
   "execution_count": 21,
   "metadata": {
    "ExecuteTime": {
     "end_time": "2024-07-25T11:33:43.609439400Z",
     "start_time": "2024-07-25T11:33:43.580432600Z"
    }
   },
   "outputs": [],
   "source": [
    "day_change_idx = list(change_df[['year','month','day']].drop_duplicates().index)"
   ]
  },
  {
   "cell_type": "code",
   "execution_count": 22,
   "metadata": {
    "ExecuteTime": {
     "end_time": "2024-07-25T11:33:43.661335600Z",
     "start_time": "2024-07-25T11:33:43.595774800Z"
    }
   },
   "outputs": [],
   "source": [
    "seg_lst = []\n",
    "\n",
    "for i in range(len(day_change_idx)-1):\n",
    "    seg_lst.append(change_df.iloc[day_change_idx[i]:day_change_idx[i+1]+1].copy())"
   ]
  },
  {
   "cell_type": "code",
   "execution_count": 23,
   "metadata": {
    "ExecuteTime": {
     "end_time": "2024-07-25T11:33:43.757958500Z",
     "start_time": "2024-07-25T11:33:43.742559600Z"
    }
   },
   "outputs": [],
   "source": [
    "from joblib import Parallel, delayed\n",
    "from tqdm import tqdm"
   ]
  },
  {
   "cell_type": "code",
   "execution_count": 24,
   "metadata": {
    "ExecuteTime": {
     "end_time": "2024-07-25T11:34:10.743601200Z",
     "start_time": "2024-07-25T11:33:47.278036500Z"
    }
   },
   "outputs": [
    {
     "name": "stderr",
     "output_type": "stream",
     "text": [
      "\n",
      "  0%|          | 0/246 [00:00<?, ?it/s]\u001B[A\n",
      "KeyboardInterrupt\n",
      "\n"
     ]
    }
   ],
   "source": [
    "results = Parallel(n_jobs=5)(delayed(get_info)(seg) for seg in tqdm(seg_lst))"
   ]
  },
  {
   "cell_type": "code",
   "execution_count": 13,
   "metadata": {},
   "outputs": [],
   "source": [
    "rslt = pd.concat(results)"
   ]
  },
  {
   "cell_type": "code",
   "execution_count": 16,
   "metadata": {},
   "outputs": [],
   "source": [
    "rslt.sort_values(by=['year', 'month', 'day', 'hour', 'minute', 'second']).reset_index(drop=True).to_csv('58400_persec.csv')"
   ]
  },
  {
   "cell_type": "code",
   "execution_count": null,
   "metadata": {},
   "outputs": [],
   "source": []
  },
  {
   "cell_type": "code",
   "execution_count": null,
   "metadata": {},
   "outputs": [],
   "source": [
    "#info_df.to_csv('39227.csv', index=False)"
   ]
  },
  {
   "cell_type": "code",
   "execution_count": null,
   "metadata": {},
   "outputs": [],
   "source": [
    "# info_df.to_csv('25544.csv', index=False)"
   ]
  },
  {
   "cell_type": "code",
   "execution_count": null,
   "metadata": {},
   "outputs": [],
   "source": [
    "# info_df.to_csv('51130.csv', index=False)"
   ]
  }
 ],
 "metadata": {
  "kernelspec": {
   "display_name": "spacemap",
   "language": "python",
   "name": "python3"
  },
  "language_info": {
   "codemirror_mode": {
    "name": "ipython",
    "version": 3
   },
   "file_extension": ".py",
   "mimetype": "text/x-python",
   "name": "python",
   "nbconvert_exporter": "python",
   "pygments_lexer": "ipython3",
   "version": "3.10.14"
  }
 },
 "nbformat": 4,
 "nbformat_minor": 2
}
