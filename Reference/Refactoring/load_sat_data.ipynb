{
 "cells": [
  {
   "cell_type": "code",
   "outputs": [],
   "source": [
    "import re\n",
    "import requests\n",
    "import numpy as np\n",
    "import pandas as pd\n",
    "from tqdm import tqdm\n",
    "from sgp4.api import Satrec\n",
    "from sgp4.ext import invjday\n",
    "from astropy.time import Time\n",
    "from astropy import units as u\n",
    "from sgp4.conveniences import jday\n",
    "from astropy.coordinates import ITRS\n",
    "from datetime import datetime, timedelta\n",
    "from astropy.coordinates import TEME, CartesianDifferential, CartesianRepresentation\n",
    "\n",
    "np.set_printoptions(precision=2)\n",
    "username = 'asas4539@hanyang.ac.kr'\n",
    "password = 'onsaemiro1729!!'"
   ],
   "metadata": {
    "collapsed": false,
    "ExecuteTime": {
     "end_time": "2024-09-02T05:50:19.186030700Z",
     "start_time": "2024-09-02T05:50:17.266998600Z"
    }
   },
   "execution_count": 1
  },
  {
   "cell_type": "code",
   "outputs": [],
   "source": [
    "def get_tle(sat_num):\n",
    "    '''\n",
    "    :param sat_num: 위성번호\n",
    "    :return: KVN과 TLE 데이터\n",
    "    '''\n",
    "    # Space-Track API의 URL\n",
    "    url = \"https://www.space-track.org/ajaxauth/login\"\n",
    "\n",
    "    # 요청에 필요한 인증 정보\n",
    "    payload = {\"identity\": username, \"password\": password}\n",
    "\n",
    "    # Session 객체 생성\n",
    "    session = requests.Session()\n",
    "\n",
    "    # 로그인 요청\n",
    "    response = session.post(url, data=payload)\n",
    "    if response.status_code != 200:\n",
    "        print(\"로그인에 실패했습니다.\")\n",
    "        return None\n",
    "\n",
    "    # KVN 요청\n",
    "    kvn_response = session.get(\n",
    "        f\"https://www.space-track.org/basicspacedata/query/class/gp_history/NORAD_CAT_ID/{sat_num}/orderby/EPOCH%20ASC/EPOCH/2022-12-31--2024-08-01/format/kvn\"\n",
    "    )\n",
    "    # TLE 요청\n",
    "    tle_response = session.get(\n",
    "        f\"https://www.space-track.org/basicspacedata/query/class/gp_history/NORAD_CAT_ID/{sat_num}/orderby/EPOCH%20ASC/EPOCH/2022-12-31--2024-08-01/format/3le\"\n",
    "    )\n",
    "\n",
    "    return kvn_response, tle_response"
   ],
   "metadata": {
    "collapsed": false,
    "ExecuteTime": {
     "end_time": "2024-09-02T07:37:05.052503200Z",
     "start_time": "2024-09-02T07:37:05.018738500Z"
    }
   },
   "execution_count": 105
  },
  {
   "cell_type": "code",
   "outputs": [],
   "source": [
    "def compute_change_df(kvn_response, tle_response, real_time: bool):\n",
    "    tle_datas = tle_response.text.split('\\r\\n')\n",
    "    creation_dates = list(re.findall(r\"CREATION_DATE\\s*=\\s*([\\d\\-T:]+)\", kvn_response.text))\n",
    "\n",
    "    info_df = pd.DataFrame([creation_dates, tle_datas[1:][::3], tle_datas[2:][::3]]).T\n",
    "    info_df.columns = ['creation_date', 'first_line', 'second_line']\n",
    "    info_df['created_year'] = info_df['creation_date'].map(lambda x: int(x.split('-')[0]))\n",
    "    info_df['created_month'] = info_df['creation_date'].map(lambda x: int(x.split('-')[1]))\n",
    "    info_df['created_day'] = info_df['creation_date'].map(lambda x: int(x.split('-')[2].split('T')[0]))\n",
    "    info_df['created_hour'] = info_df['creation_date'].map(lambda x: int(x.split('T')[1].split(':')[0]))\n",
    "    info_df['created_minute'] = info_df['creation_date'].map(lambda x: int(x.split(':')[1]))\n",
    "    info_df['created_second'] = info_df['creation_date'].map(lambda x: int(x.split(':')[2]))\n",
    "    info_df = info_df.sort_values(by='creation_date').reset_index(drop=True)\n",
    "\n",
    "    change_times = []\n",
    "    for i in range(len(info_df)):\n",
    "        tle_1, tle_2 = info_df['first_line'].iloc[i], info_df['first_line'].iloc[i]\n",
    "        satellite = Satrec.twoline2rv(tle_1, tle_2)\n",
    "        jdsatepoch = satellite.jdsatepoch\n",
    "        jdsatepochfrac = satellite.jdsatepochF\n",
    "        epochdatetime = invjday(jdsatepoch + jdsatepochfrac)\n",
    "        change_times.append(epochdatetime)\n",
    "\n",
    "    change_df = pd.DataFrame(change_times)\n",
    "    change_df.columns = ['year', 'month', 'day', 'hour', 'minute', 'second']\n",
    "    change_df.insert(0, 'first_line', info_df['first_line'])\n",
    "    change_df.insert(1, 'second_line', info_df['second_line'])\n",
    "    change_df['epoch_date'] = pd.to_datetime(change_df[['year', 'month', 'day', 'hour', 'minute', 'second']])\n",
    "\n",
    "    if real_time:\n",
    "        change_df = pd.concat([change_df, info_df[\n",
    "            ['created_year', 'created_month', 'created_day', 'created_hour', 'created_minute',\n",
    "             'created_second', 'creation_date']]], axis=1)\n",
    "        change_df = change_df.sort_values(by='creation_date').reset_index(drop=True)\n",
    "        change_df = change_df.loc[change_df[['year', 'month', 'day', 'hour', 'minute', 'second']].drop_duplicates(keep='first').index].copy()\n",
    "\n",
    "    end_point = change_df.iloc[-1:].copy()\n",
    "    end_point['month'] = 8\n",
    "    end_point['day'] = 1\n",
    "    end_point['hour'] = 0\n",
    "    end_point['minute'] = 0\n",
    "    end_point['second'] = 0\n",
    "    end_point['epoch_date'] = pd.to_datetime(end_point[['year', 'month', 'day', 'hour', 'minute', 'second']])\n",
    "    change_df = pd.concat([change_df, end_point], axis=0).copy()\n",
    "\n",
    "    if not real_time:\n",
    "        change_df = change_df.sort_values(by='epoch_date').reset_index(drop=True)\n",
    "        change_df = change_df.loc[change_df[['year', 'month', 'day', 'hour', 'minute', 'second']].drop_duplicates(keep='first').index].copy()\n",
    "\n",
    "    # change_df[['creation_date', 'created_year', 'created_month', 'created_day', 'created_hour', 'created_minute',\n",
    "    #            'created_second']] = (\n",
    "    #     info_df)[['creation_date', 'created_year', 'created_month', 'created_day', 'created_hour', 'created_minute',\n",
    "    #               'created_second']]\n",
    "\n",
    "    # change_df = change_df.sort_values(by='creation_date').reset_index(drop=True)\n",
    "\n",
    "    # change_df = change_df[\n",
    "    #     ['first_line', 'second_line', 'time', 'year', 'month', 'day', 'hour', 'minute', 'second', 'creation_date',\n",
    "    #      'created_year', 'created_month', 'created_day', 'created_hour', 'created_minute', 'created_second']]\n",
    "    # day_change_idx = list(change_df[['year', 'month', 'day']].drop_duplicates().index)\n",
    "    return change_df"
   ],
   "metadata": {
    "collapsed": false,
    "ExecuteTime": {
     "end_time": "2024-09-02T07:57:18.345320200Z",
     "start_time": "2024-09-02T07:57:18.326324Z"
    }
   },
   "execution_count": 158
  },
  {
   "cell_type": "code",
   "execution_count": 159,
   "metadata": {
    "ExecuteTime": {
     "end_time": "2024-09-02T07:57:20.817303200Z",
     "start_time": "2024-09-02T07:57:18.513636200Z"
    }
   },
   "outputs": [],
   "source": [
    "number = 58400\n",
    "kvn_response, tle_response = get_tle(number)\n",
    "change_df = compute_change_df(kvn_response, tle_response, True)"
   ]
  },
  {
   "cell_type": "code",
   "outputs": [
    {
     "data": {
      "text/plain": "                                             first_line  \\\n0     1 58400U 23179A   23326.01002942  .00008068  0...   \n1     1 58400U 23179A   23326.16510777  .00018821  0...   \n2     1 58400U 23179A   23326.95239345  .00014863  0...   \n3     1 58400U 23179A   23326.86521155  .00009675  0...   \n4     1 58400U 23179A   23327.21599119  .00012574  0...   \n...                                                 ...   \n1154  1 58400U 23179A   24213.18365506  .00008690  0...   \n1155  1 58400U 23179A   24213.57820414  .00007822  0...   \n1156  1 58400U 23179A   24213.84123612  .00009173  0...   \n1157  1 58400U 23179A   24213.97275171  .00009594  0...   \n1157  1 58400U 23179A   24213.97275171  .00009594  0...   \n\n                                            second_line  year  month  day  \\\n0     2 58400  97.4276 210.7863 0014260 279.3296  80...  2023     11   22   \n1     2 58400  97.4263 210.9434 0014062 277.7388 210...  2023     11   22   \n2     2 58400  97.4261 211.7175 0014282 275.5273 201...  2023     11   22   \n3     2 58400  97.4275 211.6299 0014281 275.8375  84...  2023     11   22   \n4     2 58400  97.4263 211.9766 0014186 274.4179 205...  2023     11   23   \n...                                                 ...   ...    ...  ...   \n1154  2 58400  97.3982  99.2875 0003254  70.4061 289...  2024      7   31   \n1155  2 58400  97.3981  99.6755 0003225  69.4820 290...  2024      7   31   \n1156  2 58400  97.3981  99.9341 0003211  69.0697 291...  2024      7   31   \n1157  2 58400  97.3981 100.0633 0003201  68.8851 291...  2024      7   31   \n1157  2 58400  97.3981 100.0633 0003201  68.8851 291...  2024      8    1   \n\n      hour  minute     second                    epoch_date  created_year  \\\n0        0      14  26.541870 2023-11-22 00:14:26.541869939          2023   \n1        3      57  45.311319 2023-11-22 03:57:45.311318636          2023   \n2       22      51  26.794066 2023-11-22 22:51:26.794066429          2023   \n3       20      45  54.277933 2023-11-22 20:45:54.277932644          2023   \n4        5      11   1.638831 2023-11-23 05:11:01.638830602          2023   \n...    ...     ...        ...                           ...           ...   \n1154     4      24  27.797175 2024-07-31 04:24:27.797175050          2024   \n1155    13      52  36.837702 2024-07-31 13:52:36.837701798          2024   \n1156    20      11  22.800776 2024-07-31 20:11:22.800775767          2024   \n1157    23      20  45.747752 2024-07-31 23:20:45.747752488          2024   \n1157     0       0   0.000000 2024-08-01 00:00:00.000000000          2024   \n\n      created_month  created_day  created_hour  created_minute  \\\n0                11           22             3              26   \n1                11           22             4               6   \n2                11           23             0              56   \n3                11           23             3              43   \n4                11           23             5              56   \n...             ...          ...           ...             ...   \n1154              7           31             6              56   \n1155              7           31            15               6   \n1156              7           31            23               6   \n1157              8            1             5              40   \n1157              8            1             5              40   \n\n      created_second        creation_date  \n0                 15  2023-11-22T03:26:15  \n1                 16  2023-11-22T04:06:16  \n2                 19  2023-11-23T00:56:19  \n3                 51  2023-11-23T03:43:51  \n4                 15  2023-11-23T05:56:15  \n...              ...                  ...  \n1154              18  2024-07-31T06:56:18  \n1155              16  2024-07-31T15:06:16  \n1156              17  2024-07-31T23:06:17  \n1157               1  2024-08-01T05:40:01  \n1157               1  2024-08-01T05:40:01  \n\n[1130 rows x 16 columns]",
      "text/html": "<div>\n<style scoped>\n    .dataframe tbody tr th:only-of-type {\n        vertical-align: middle;\n    }\n\n    .dataframe tbody tr th {\n        vertical-align: top;\n    }\n\n    .dataframe thead th {\n        text-align: right;\n    }\n</style>\n<table border=\"1\" class=\"dataframe\">\n  <thead>\n    <tr style=\"text-align: right;\">\n      <th></th>\n      <th>first_line</th>\n      <th>second_line</th>\n      <th>year</th>\n      <th>month</th>\n      <th>day</th>\n      <th>hour</th>\n      <th>minute</th>\n      <th>second</th>\n      <th>epoch_date</th>\n      <th>created_year</th>\n      <th>created_month</th>\n      <th>created_day</th>\n      <th>created_hour</th>\n      <th>created_minute</th>\n      <th>created_second</th>\n      <th>creation_date</th>\n    </tr>\n  </thead>\n  <tbody>\n    <tr>\n      <th>0</th>\n      <td>1 58400U 23179A   23326.01002942  .00008068  0...</td>\n      <td>2 58400  97.4276 210.7863 0014260 279.3296  80...</td>\n      <td>2023</td>\n      <td>11</td>\n      <td>22</td>\n      <td>0</td>\n      <td>14</td>\n      <td>26.541870</td>\n      <td>2023-11-22 00:14:26.541869939</td>\n      <td>2023</td>\n      <td>11</td>\n      <td>22</td>\n      <td>3</td>\n      <td>26</td>\n      <td>15</td>\n      <td>2023-11-22T03:26:15</td>\n    </tr>\n    <tr>\n      <th>1</th>\n      <td>1 58400U 23179A   23326.16510777  .00018821  0...</td>\n      <td>2 58400  97.4263 210.9434 0014062 277.7388 210...</td>\n      <td>2023</td>\n      <td>11</td>\n      <td>22</td>\n      <td>3</td>\n      <td>57</td>\n      <td>45.311319</td>\n      <td>2023-11-22 03:57:45.311318636</td>\n      <td>2023</td>\n      <td>11</td>\n      <td>22</td>\n      <td>4</td>\n      <td>6</td>\n      <td>16</td>\n      <td>2023-11-22T04:06:16</td>\n    </tr>\n    <tr>\n      <th>2</th>\n      <td>1 58400U 23179A   23326.95239345  .00014863  0...</td>\n      <td>2 58400  97.4261 211.7175 0014282 275.5273 201...</td>\n      <td>2023</td>\n      <td>11</td>\n      <td>22</td>\n      <td>22</td>\n      <td>51</td>\n      <td>26.794066</td>\n      <td>2023-11-22 22:51:26.794066429</td>\n      <td>2023</td>\n      <td>11</td>\n      <td>23</td>\n      <td>0</td>\n      <td>56</td>\n      <td>19</td>\n      <td>2023-11-23T00:56:19</td>\n    </tr>\n    <tr>\n      <th>3</th>\n      <td>1 58400U 23179A   23326.86521155  .00009675  0...</td>\n      <td>2 58400  97.4275 211.6299 0014281 275.8375  84...</td>\n      <td>2023</td>\n      <td>11</td>\n      <td>22</td>\n      <td>20</td>\n      <td>45</td>\n      <td>54.277933</td>\n      <td>2023-11-22 20:45:54.277932644</td>\n      <td>2023</td>\n      <td>11</td>\n      <td>23</td>\n      <td>3</td>\n      <td>43</td>\n      <td>51</td>\n      <td>2023-11-23T03:43:51</td>\n    </tr>\n    <tr>\n      <th>4</th>\n      <td>1 58400U 23179A   23327.21599119  .00012574  0...</td>\n      <td>2 58400  97.4263 211.9766 0014186 274.4179 205...</td>\n      <td>2023</td>\n      <td>11</td>\n      <td>23</td>\n      <td>5</td>\n      <td>11</td>\n      <td>1.638831</td>\n      <td>2023-11-23 05:11:01.638830602</td>\n      <td>2023</td>\n      <td>11</td>\n      <td>23</td>\n      <td>5</td>\n      <td>56</td>\n      <td>15</td>\n      <td>2023-11-23T05:56:15</td>\n    </tr>\n    <tr>\n      <th>...</th>\n      <td>...</td>\n      <td>...</td>\n      <td>...</td>\n      <td>...</td>\n      <td>...</td>\n      <td>...</td>\n      <td>...</td>\n      <td>...</td>\n      <td>...</td>\n      <td>...</td>\n      <td>...</td>\n      <td>...</td>\n      <td>...</td>\n      <td>...</td>\n      <td>...</td>\n      <td>...</td>\n    </tr>\n    <tr>\n      <th>1154</th>\n      <td>1 58400U 23179A   24213.18365506  .00008690  0...</td>\n      <td>2 58400  97.3982  99.2875 0003254  70.4061 289...</td>\n      <td>2024</td>\n      <td>7</td>\n      <td>31</td>\n      <td>4</td>\n      <td>24</td>\n      <td>27.797175</td>\n      <td>2024-07-31 04:24:27.797175050</td>\n      <td>2024</td>\n      <td>7</td>\n      <td>31</td>\n      <td>6</td>\n      <td>56</td>\n      <td>18</td>\n      <td>2024-07-31T06:56:18</td>\n    </tr>\n    <tr>\n      <th>1155</th>\n      <td>1 58400U 23179A   24213.57820414  .00007822  0...</td>\n      <td>2 58400  97.3981  99.6755 0003225  69.4820 290...</td>\n      <td>2024</td>\n      <td>7</td>\n      <td>31</td>\n      <td>13</td>\n      <td>52</td>\n      <td>36.837702</td>\n      <td>2024-07-31 13:52:36.837701798</td>\n      <td>2024</td>\n      <td>7</td>\n      <td>31</td>\n      <td>15</td>\n      <td>6</td>\n      <td>16</td>\n      <td>2024-07-31T15:06:16</td>\n    </tr>\n    <tr>\n      <th>1156</th>\n      <td>1 58400U 23179A   24213.84123612  .00009173  0...</td>\n      <td>2 58400  97.3981  99.9341 0003211  69.0697 291...</td>\n      <td>2024</td>\n      <td>7</td>\n      <td>31</td>\n      <td>20</td>\n      <td>11</td>\n      <td>22.800776</td>\n      <td>2024-07-31 20:11:22.800775767</td>\n      <td>2024</td>\n      <td>7</td>\n      <td>31</td>\n      <td>23</td>\n      <td>6</td>\n      <td>17</td>\n      <td>2024-07-31T23:06:17</td>\n    </tr>\n    <tr>\n      <th>1157</th>\n      <td>1 58400U 23179A   24213.97275171  .00009594  0...</td>\n      <td>2 58400  97.3981 100.0633 0003201  68.8851 291...</td>\n      <td>2024</td>\n      <td>7</td>\n      <td>31</td>\n      <td>23</td>\n      <td>20</td>\n      <td>45.747752</td>\n      <td>2024-07-31 23:20:45.747752488</td>\n      <td>2024</td>\n      <td>8</td>\n      <td>1</td>\n      <td>5</td>\n      <td>40</td>\n      <td>1</td>\n      <td>2024-08-01T05:40:01</td>\n    </tr>\n    <tr>\n      <th>1157</th>\n      <td>1 58400U 23179A   24213.97275171  .00009594  0...</td>\n      <td>2 58400  97.3981 100.0633 0003201  68.8851 291...</td>\n      <td>2024</td>\n      <td>8</td>\n      <td>1</td>\n      <td>0</td>\n      <td>0</td>\n      <td>0.000000</td>\n      <td>2024-08-01 00:00:00.000000000</td>\n      <td>2024</td>\n      <td>8</td>\n      <td>1</td>\n      <td>5</td>\n      <td>40</td>\n      <td>1</td>\n      <td>2024-08-01T05:40:01</td>\n    </tr>\n  </tbody>\n</table>\n<p>1130 rows × 16 columns</p>\n</div>"
     },
     "execution_count": 160,
     "metadata": {},
     "output_type": "execute_result"
    }
   ],
   "source": [
    "change_df"
   ],
   "metadata": {
    "collapsed": false,
    "ExecuteTime": {
     "end_time": "2024-09-02T07:57:20.833876900Z",
     "start_time": "2024-09-02T07:57:20.818303400Z"
    }
   },
   "execution_count": 160
  },
  {
   "cell_type": "code",
   "outputs": [],
   "source": [
    "def compute_result_df(change_df):\n",
    "    col_name = ['time',\n",
    "                'x', 'y', 'z',\n",
    "                'vx', 'vy', 'vz',\n",
    "                'altitude', 'velocity',\n",
    "                'x_earth', 'y_earth', 'z_earth',\n",
    "                'vx_earth', 'vy_earth', 'vz_earth',\n",
    "                'apogee', 'perigee',\n",
    "                'inclination', 'eccentricity', 'raan',\n",
    "                'lon', 'lat', 'height']\n",
    "\n",
    "    all_info = []\n",
    "\n",
    "    for i in tqdm(range(len(change_df) - 1)):\n",
    "\n",
    "        sat_info = change_df.iloc[i]\n",
    "        next_sat_info = change_df.iloc[i + 1]\n",
    "\n",
    "        tle_1, tle_2 = sat_info['first_line'], sat_info['second_line']\n",
    "\n",
    "        satellite = Satrec.twoline2rv(tle_1, tle_2)\n",
    "        jdsatepoch = satellite.jdsatepoch\n",
    "        jdsatepochfrac = satellite.jdsatepochF\n",
    "        epochdatetime = list(invjday(jdsatepoch + jdsatepochfrac))\n",
    "        epochdatetime[-1] = int(epochdatetime[-1])\n",
    "\n",
    "        next_tle_1, next_tle_2 = next_sat_info['first_line'], next_sat_info['second_line']\n",
    "\n",
    "        next_satellite = Satrec.twoline2rv(next_tle_1, next_tle_2)\n",
    "        next_jdsatepoch = next_satellite.jdsatepoch\n",
    "        next_jdsatepochfrac = next_satellite.jdsatepochF\n",
    "        next_epochdatetime = list(invjday(next_jdsatepoch + next_jdsatepochfrac))\n",
    "        next_epochdatetime[-1] = int(next_epochdatetime[-1])\n",
    "\n",
    "        earth_radius = 6378.137\n",
    "        rad2deg = 180.0 / 3.141592653589793\n",
    "\n",
    "        start = datetime(*epochdatetime)\n",
    "\n",
    "        if i == len(change_df) - 2:\n",
    "            next_epochdatetime = [2024, 8, 1, 0, 0, 0]\n",
    "            end = datetime(*next_epochdatetime)\n",
    "        else:\n",
    "            end = datetime(*next_epochdatetime)\n",
    "            end += timedelta(seconds=1)\n",
    "\n",
    "        start += timedelta(minutes=1)\n",
    "        start -= timedelta(seconds=start.second)\n",
    "\n",
    "        epoch = start\n",
    "\n",
    "        jd_lst = []\n",
    "        fr_lst = []\n",
    "\n",
    "        time_lst = []\n",
    "\n",
    "        while (epoch < end):\n",
    "            year = epoch.year\n",
    "            month = epoch.month\n",
    "            date = epoch.day\n",
    "            hour = epoch.hour\n",
    "            minute = epoch.minute\n",
    "            second = epoch.second\n",
    "\n",
    "            time_lst.append(epoch)\n",
    "\n",
    "            jd, fr = jday(year, month, date, hour, minute, second)\n",
    "\n",
    "            jd_lst.append(jd)\n",
    "            fr_lst.append(fr)\n",
    "\n",
    "            epoch += timedelta(minutes=1)\n",
    "\n",
    "        e, r, v = satellite.sgp4_array(np.array(jd_lst), np.array(fr_lst))\n",
    "\n",
    "        t_lst = Time(list(np.array(jd_lst) + np.array(fr_lst)), format='jd')\n",
    "\n",
    "        teme_p = CartesianRepresentation(r[:, 0] * u.km, r[:, 1] * u.km, r[:, 2] * u.km)\n",
    "        teme_v = CartesianDifferential(v[:, 0] * u.km / u.s, v[:, 1] * u.km / u.s, v[:, 2] * u.km / u.s)\n",
    "        teme = TEME(teme_p.with_differentials(teme_v), obstime=t_lst)\n",
    "        print(t_lst)\n",
    "        itrs_geo = teme.transform_to(ITRS(obstime=t_lst))\n",
    "        locations = itrs_geo.earth_location\n",
    "        geodetic_coords = locations.geodetic\n",
    "\n",
    "        all_info.append(pd.DataFrame([time_lst,\n",
    "                                      r[:, 0], r[:, 1], r[:, 2],\n",
    "                                      v[:, 0], v[:, 1], v[:, 2],\n",
    "                                      (r[:, 0] ** 2 + r[:, 1] ** 2 + r[:, 2] ** 2) ** 0.5,\n",
    "                                      (v[:, 0] ** 2 + v[:, 1] ** 2 + v[:, 2] ** 2) ** 0.5,\n",
    "                                      teme_p.x.value, teme_p.y.value, teme_p.z.value,\n",
    "                                      teme_v.d_x.value, teme_v.d_y.value, teme_v.d_z.value,\n",
    "                                      [satellite.alta * earth_radius] * len(time_lst),\n",
    "                                      [satellite.altp * earth_radius] * len(time_lst),\n",
    "                                      [satellite.inclo * rad2deg] * len(time_lst), [satellite.ecco] * len(time_lst),\n",
    "                                      [satellite.nodeo] * len(time_lst),\n",
    "                                      geodetic_coords.lon.value, geodetic_coords.lat.value,\n",
    "                                      geodetic_coords.height.value,\n",
    "                                      ]))\n",
    "\n",
    "    result = pd.concat(all_info, axis=1).T\n",
    "\n",
    "    result.columns = col_name\n",
    "    result.time = pd.to_datetime(result.time)\n",
    "    result = result.set_index(['time'])\n",
    "    return result"
   ],
   "metadata": {
    "collapsed": false,
    "ExecuteTime": {
     "end_time": "2024-09-02T07:57:37.890399800Z",
     "start_time": "2024-09-02T07:57:37.872907500Z"
    }
   },
   "execution_count": 163
  },
  {
   "cell_type": "code",
   "outputs": [
    {
     "name": "stderr",
     "output_type": "stream",
     "text": [
      "  0%|          | 2/1129 [00:00<00:49, 22.65it/s]\n"
     ]
    },
    {
     "name": "stdout",
     "output_type": "stream",
     "text": [
      "[2460270.51 2460270.51 2460270.51 2460270.51 2460270.51 2460270.51\n",
      " 2460270.51 2460270.52 2460270.52 2460270.52 2460270.52 2460270.52\n",
      " 2460270.52 2460270.52 2460270.52 2460270.52 2460270.52 2460270.52\n",
      " 2460270.52 2460270.52 2460270.52 2460270.52 2460270.53 2460270.53\n",
      " 2460270.53 2460270.53 2460270.53 2460270.53 2460270.53 2460270.53\n",
      " 2460270.53 2460270.53 2460270.53 2460270.53 2460270.53 2460270.53\n",
      " 2460270.54 2460270.54 2460270.54 2460270.54 2460270.54 2460270.54\n",
      " 2460270.54 2460270.54 2460270.54 2460270.54 2460270.54 2460270.54\n",
      " 2460270.54 2460270.54 2460270.55 2460270.55 2460270.55 2460270.55\n",
      " 2460270.55 2460270.55 2460270.55 2460270.55 2460270.55 2460270.55\n",
      " 2460270.55 2460270.55 2460270.55 2460270.55 2460270.55 2460270.56\n",
      " 2460270.56 2460270.56 2460270.56 2460270.56 2460270.56 2460270.56\n",
      " 2460270.56 2460270.56 2460270.56 2460270.56 2460270.56 2460270.56\n",
      " 2460270.56 2460270.57 2460270.57 2460270.57 2460270.57 2460270.57\n",
      " 2460270.57 2460270.57 2460270.57 2460270.57 2460270.57 2460270.57\n",
      " 2460270.57 2460270.57 2460270.57 2460270.58 2460270.58 2460270.58\n",
      " 2460270.58 2460270.58 2460270.58 2460270.58 2460270.58 2460270.58\n",
      " 2460270.58 2460270.58 2460270.58 2460270.58 2460270.58 2460270.58\n",
      " 2460270.59 2460270.59 2460270.59 2460270.59 2460270.59 2460270.59\n",
      " 2460270.59 2460270.59 2460270.59 2460270.59 2460270.59 2460270.59\n",
      " 2460270.59 2460270.59 2460270.6  2460270.6  2460270.6  2460270.6\n",
      " 2460270.6  2460270.6  2460270.6  2460270.6  2460270.6  2460270.6\n",
      " 2460270.6  2460270.6  2460270.6  2460270.6  2460270.6  2460270.61\n",
      " 2460270.61 2460270.61 2460270.61 2460270.61 2460270.61 2460270.61\n",
      " 2460270.61 2460270.61 2460270.61 2460270.61 2460270.61 2460270.61\n",
      " 2460270.61 2460270.62 2460270.62 2460270.62 2460270.62 2460270.62\n",
      " 2460270.62 2460270.62 2460270.62 2460270.62 2460270.62 2460270.62\n",
      " 2460270.62 2460270.62 2460270.62 2460270.62 2460270.63 2460270.63\n",
      " 2460270.63 2460270.63 2460270.63 2460270.63 2460270.63 2460270.63\n",
      " 2460270.63 2460270.63 2460270.63 2460270.63 2460270.63 2460270.63\n",
      " 2460270.64 2460270.64 2460270.64 2460270.64 2460270.64 2460270.64\n",
      " 2460270.64 2460270.64 2460270.64 2460270.64 2460270.64 2460270.64\n",
      " 2460270.64 2460270.64 2460270.65 2460270.65 2460270.65 2460270.65\n",
      " 2460270.65 2460270.65 2460270.65 2460270.65 2460270.65 2460270.65\n",
      " 2460270.65 2460270.65 2460270.65 2460270.65 2460270.65 2460270.66\n",
      " 2460270.66 2460270.66 2460270.66 2460270.66 2460270.66 2460270.66\n",
      " 2460270.66 2460270.66 2460270.66 2460270.66 2460270.66 2460270.66\n",
      " 2460270.66]\n",
      "[2460270.67 2460270.67 2460270.67 ... 2460271.45 2460271.45 2460271.45]\n",
      "[]\n"
     ]
    },
    {
     "ename": "ValueError",
     "evalue": "not enough values to unpack (expected 3, got 0)",
     "output_type": "error",
     "traceback": [
      "\u001B[1;31m---------------------------------------------------------------------------\u001B[0m",
      "\u001B[1;31mValueError\u001B[0m                                Traceback (most recent call last)",
      "Cell \u001B[1;32mIn[164], line 1\u001B[0m\n\u001B[1;32m----> 1\u001B[0m result\u001B[38;5;241m=\u001B[39m\u001B[43mcompute_result_df\u001B[49m\u001B[43m(\u001B[49m\u001B[43mchange_df\u001B[49m\u001B[43m)\u001B[49m\n",
      "Cell \u001B[1;32mIn[163], line 82\u001B[0m, in \u001B[0;36mcompute_result_df\u001B[1;34m(change_df)\u001B[0m\n\u001B[0;32m     80\u001B[0m teme \u001B[38;5;241m=\u001B[39m TEME(teme_p\u001B[38;5;241m.\u001B[39mwith_differentials(teme_v), obstime\u001B[38;5;241m=\u001B[39mt_lst)\n\u001B[0;32m     81\u001B[0m \u001B[38;5;28mprint\u001B[39m(t_lst)\n\u001B[1;32m---> 82\u001B[0m itrs_geo \u001B[38;5;241m=\u001B[39m \u001B[43mteme\u001B[49m\u001B[38;5;241;43m.\u001B[39;49m\u001B[43mtransform_to\u001B[49m\u001B[43m(\u001B[49m\u001B[43mITRS\u001B[49m\u001B[43m(\u001B[49m\u001B[43mobstime\u001B[49m\u001B[38;5;241;43m=\u001B[39;49m\u001B[43mt_lst\u001B[49m\u001B[43m)\u001B[49m\u001B[43m)\u001B[49m\n\u001B[0;32m     83\u001B[0m locations \u001B[38;5;241m=\u001B[39m itrs_geo\u001B[38;5;241m.\u001B[39mearth_location\n\u001B[0;32m     84\u001B[0m geodetic_coords \u001B[38;5;241m=\u001B[39m locations\u001B[38;5;241m.\u001B[39mgeodetic\n",
      "File \u001B[1;32m~\\anaconda3\\envs\\SPACEMAP\\lib\\site-packages\\astropy\\coordinates\\baseframe.py:1283\u001B[0m, in \u001B[0;36mBaseCoordinateFrame.transform_to\u001B[1;34m(self, new_frame)\u001B[0m\n\u001B[0;32m   1281\u001B[0m     msg \u001B[38;5;241m=\u001B[39m \u001B[38;5;124m\"\u001B[39m\u001B[38;5;124mCannot transform from \u001B[39m\u001B[38;5;132;01m{0}\u001B[39;00m\u001B[38;5;124m to \u001B[39m\u001B[38;5;132;01m{1}\u001B[39;00m\u001B[38;5;124m\"\u001B[39m\n\u001B[0;32m   1282\u001B[0m     \u001B[38;5;28;01mraise\u001B[39;00m ConvertError(msg\u001B[38;5;241m.\u001B[39mformat(\u001B[38;5;28mself\u001B[39m\u001B[38;5;241m.\u001B[39m\u001B[38;5;18m__class__\u001B[39m, new_frame\u001B[38;5;241m.\u001B[39m\u001B[38;5;18m__class__\u001B[39m))\n\u001B[1;32m-> 1283\u001B[0m \u001B[38;5;28;01mreturn\u001B[39;00m \u001B[43mtrans\u001B[49m\u001B[43m(\u001B[49m\u001B[38;5;28;43mself\u001B[39;49m\u001B[43m,\u001B[49m\u001B[43m \u001B[49m\u001B[43mnew_frame\u001B[49m\u001B[43m)\u001B[49m\n",
      "File \u001B[1;32m~\\anaconda3\\envs\\SPACEMAP\\lib\\site-packages\\astropy\\coordinates\\transformations\\composite.py:113\u001B[0m, in \u001B[0;36mCompositeTransform.__call__\u001B[1;34m(self, fromcoord, toframe)\u001B[0m\n\u001B[0;32m    110\u001B[0m             frattrs[inter_frame_attr_nm] \u001B[38;5;241m=\u001B[39m attr\n\u001B[0;32m    112\u001B[0m     curr_toframe \u001B[38;5;241m=\u001B[39m t\u001B[38;5;241m.\u001B[39mtosys(\u001B[38;5;241m*\u001B[39m\u001B[38;5;241m*\u001B[39mfrattrs)\n\u001B[1;32m--> 113\u001B[0m     curr_coord \u001B[38;5;241m=\u001B[39m \u001B[43mt\u001B[49m\u001B[43m(\u001B[49m\u001B[43mcurr_coord\u001B[49m\u001B[43m,\u001B[49m\u001B[43m \u001B[49m\u001B[43mcurr_toframe\u001B[49m\u001B[43m)\u001B[49m\n\u001B[0;32m    115\u001B[0m \u001B[38;5;66;03m# this is safe even in the case where self.transforms is empty, because\u001B[39;00m\n\u001B[0;32m    116\u001B[0m \u001B[38;5;66;03m# coordinate objects are immutable, so copying is not needed\u001B[39;00m\n\u001B[0;32m    117\u001B[0m \u001B[38;5;28;01mreturn\u001B[39;00m curr_coord\n",
      "File \u001B[1;32m~\\anaconda3\\envs\\SPACEMAP\\lib\\site-packages\\astropy\\coordinates\\transformations\\function.py:175\u001B[0m, in \u001B[0;36mFunctionTransformWithFiniteDifference.__call__\u001B[1;34m(self, fromcoord, toframe)\u001B[0m\n\u001B[0;32m    173\u001B[0m supcall \u001B[38;5;241m=\u001B[39m \u001B[38;5;28mself\u001B[39m\u001B[38;5;241m.\u001B[39mfunc\n\u001B[0;32m    174\u001B[0m \u001B[38;5;28;01mif\u001B[39;00m \u001B[38;5;129;01mnot\u001B[39;00m fromcoord\u001B[38;5;241m.\u001B[39mdata\u001B[38;5;241m.\u001B[39mdifferentials:\n\u001B[1;32m--> 175\u001B[0m     \u001B[38;5;28;01mreturn\u001B[39;00m \u001B[43msupcall\u001B[49m\u001B[43m(\u001B[49m\u001B[43mfromcoord\u001B[49m\u001B[43m,\u001B[49m\u001B[43m \u001B[49m\u001B[43mtoframe\u001B[49m\u001B[43m)\u001B[49m\n\u001B[0;32m    176\u001B[0m \u001B[38;5;66;03m# this is the finite difference case\u001B[39;00m\n\u001B[0;32m    178\u001B[0m \u001B[38;5;28;01mif\u001B[39;00m \u001B[38;5;28mcallable\u001B[39m(\u001B[38;5;28mself\u001B[39m\u001B[38;5;241m.\u001B[39mfinite_difference_dt):\n",
      "File \u001B[1;32m~\\anaconda3\\envs\\SPACEMAP\\lib\\site-packages\\astropy\\coordinates\\builtin_frames\\intermediate_rotation_transforms.py:279\u001B[0m, in \u001B[0;36mteme_to_itrs\u001B[1;34m(teme_coo, itrs_frame)\u001B[0m\n\u001B[0;32m    276\u001B[0m \u001B[38;5;129m@frame_transform_graph\u001B[39m\u001B[38;5;241m.\u001B[39mtransform(FunctionTransformWithFiniteDifference, TEME, ITRS)\n\u001B[0;32m    277\u001B[0m \u001B[38;5;28;01mdef\u001B[39;00m \u001B[38;5;21mteme_to_itrs\u001B[39m(teme_coo, itrs_frame):\n\u001B[0;32m    278\u001B[0m     \u001B[38;5;66;03m# use the pmatrix to transform to ITRS in the source obstime\u001B[39;00m\n\u001B[1;32m--> 279\u001B[0m     pmat \u001B[38;5;241m=\u001B[39m \u001B[43mteme_to_itrs_mat\u001B[49m\u001B[43m(\u001B[49m\u001B[43mteme_coo\u001B[49m\u001B[38;5;241;43m.\u001B[39;49m\u001B[43mobstime\u001B[49m\u001B[43m)\u001B[49m\n\u001B[0;32m    280\u001B[0m     crepr \u001B[38;5;241m=\u001B[39m teme_coo\u001B[38;5;241m.\u001B[39mcartesian\u001B[38;5;241m.\u001B[39mtransform(pmat)\n\u001B[0;32m    281\u001B[0m     itrs \u001B[38;5;241m=\u001B[39m ITRS(crepr, obstime\u001B[38;5;241m=\u001B[39mteme_coo\u001B[38;5;241m.\u001B[39mobstime)\n",
      "File \u001B[1;32m~\\anaconda3\\envs\\SPACEMAP\\lib\\site-packages\\astropy\\coordinates\\builtin_frames\\intermediate_rotation_transforms.py:33\u001B[0m, in \u001B[0;36mteme_to_itrs_mat\u001B[1;34m(time)\u001B[0m\n\u001B[0;32m     29\u001B[0m gst \u001B[38;5;241m=\u001B[39m erfa\u001B[38;5;241m.\u001B[39mgmst82(\u001B[38;5;241m*\u001B[39mget_jd12(time, \u001B[38;5;124m\"\u001B[39m\u001B[38;5;124mut1\u001B[39m\u001B[38;5;124m\"\u001B[39m))\n\u001B[0;32m     31\u001B[0m \u001B[38;5;66;03m# Polar Motion\u001B[39;00m\n\u001B[0;32m     32\u001B[0m \u001B[38;5;66;03m# Do not include TIO locator s' because it is not used in Vallado 2006\u001B[39;00m\n\u001B[1;32m---> 33\u001B[0m xp, yp \u001B[38;5;241m=\u001B[39m \u001B[43mget_polar_motion\u001B[49m\u001B[43m(\u001B[49m\u001B[43mtime\u001B[49m\u001B[43m)\u001B[49m\n\u001B[0;32m     34\u001B[0m pmmat \u001B[38;5;241m=\u001B[39m erfa\u001B[38;5;241m.\u001B[39mpom00(xp, yp, \u001B[38;5;241m0\u001B[39m)\n\u001B[0;32m     36\u001B[0m \u001B[38;5;66;03m# rotation matrix\u001B[39;00m\n\u001B[0;32m     37\u001B[0m \u001B[38;5;66;03m# c2tcio expects a GCRS->CIRS matrix as it's first argument.\u001B[39;00m\n\u001B[0;32m     38\u001B[0m \u001B[38;5;66;03m# Here, we just set that to an I-matrix, because we're already\u001B[39;00m\n\u001B[0;32m     39\u001B[0m \u001B[38;5;66;03m# in TEME and the difference between TEME and CIRS is just the\u001B[39;00m\n\u001B[0;32m     40\u001B[0m \u001B[38;5;66;03m# rotation by the sidereal time rather than the Earth Rotation Angle\u001B[39;00m\n",
      "File \u001B[1;32m~\\anaconda3\\envs\\SPACEMAP\\lib\\site-packages\\astropy\\coordinates\\builtin_frames\\utils.py:46\u001B[0m, in \u001B[0;36mget_polar_motion\u001B[1;34m(time)\u001B[0m\n\u001B[0;32m     44\u001B[0m \u001B[38;5;66;03m# Get the polar motion from the IERS table\u001B[39;00m\n\u001B[0;32m     45\u001B[0m iers_table \u001B[38;5;241m=\u001B[39m iers\u001B[38;5;241m.\u001B[39mearth_orientation_table\u001B[38;5;241m.\u001B[39mget()\n\u001B[1;32m---> 46\u001B[0m xp, yp, status \u001B[38;5;241m=\u001B[39m iers_table\u001B[38;5;241m.\u001B[39mpm_xy(time, return_status\u001B[38;5;241m=\u001B[39m\u001B[38;5;28;01mTrue\u001B[39;00m)\n\u001B[0;32m     48\u001B[0m wmsg \u001B[38;5;241m=\u001B[39m (\n\u001B[0;32m     49\u001B[0m     \u001B[38;5;124m\"\u001B[39m\u001B[38;5;124mTried to get polar motions for times \u001B[39m\u001B[38;5;132;01m{}\u001B[39;00m\u001B[38;5;124m IERS data is \u001B[39m\u001B[38;5;124m\"\u001B[39m\n\u001B[0;32m     50\u001B[0m     \u001B[38;5;124m\"\u001B[39m\u001B[38;5;124mvalid. Defaulting to polar motion from the 50-yr mean for those. \u001B[39m\u001B[38;5;124m\"\u001B[39m\n\u001B[1;32m   (...)\u001B[0m\n\u001B[0;32m     53\u001B[0m     \u001B[38;5;124m\"\u001B[39m\u001B[38;5;124mversion if necessary.\u001B[39m\u001B[38;5;124m\"\u001B[39m\n\u001B[0;32m     54\u001B[0m )\n\u001B[0;32m     55\u001B[0m \u001B[38;5;28;01mif\u001B[39;00m np\u001B[38;5;241m.\u001B[39many(status \u001B[38;5;241m==\u001B[39m iers\u001B[38;5;241m.\u001B[39mTIME_BEFORE_IERS_RANGE):\n",
      "\u001B[1;31mValueError\u001B[0m: not enough values to unpack (expected 3, got 0)"
     ]
    }
   ],
   "source": [
    "result=compute_result_df(change_df)"
   ],
   "metadata": {
    "collapsed": false,
    "ExecuteTime": {
     "end_time": "2024-09-02T07:57:38.818523100Z",
     "start_time": "2024-09-02T07:57:38.368389200Z"
    }
   },
   "execution_count": 164
  }
 ],
 "metadata": {
  "kernelspec": {
   "display_name": "spacemap",
   "language": "python",
   "name": "python3"
  },
  "language_info": {
   "codemirror_mode": {
    "name": "ipython",
    "version": 3
   },
   "file_extension": ".py",
   "mimetype": "text/x-python",
   "name": "python",
   "nbconvert_exporter": "python",
   "pygments_lexer": "ipython3",
   "version": "3.10.14"
  }
 },
 "nbformat": 4,
 "nbformat_minor": 2
}
