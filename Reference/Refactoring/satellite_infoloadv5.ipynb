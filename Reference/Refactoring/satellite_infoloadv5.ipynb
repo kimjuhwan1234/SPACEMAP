{
 "cells": [
  {
   "cell_type": "code",
   "outputs": [],
   "source": [
    "import requests\n",
    "import numpy as np\n",
    "np.set_printoptions(precision=2)\n",
    "import pandas as pd\n",
    "from datetime import datetime, timedelta\n",
    "from sgp4.api import Satrec\n",
    "from sgp4.conveniences import jday\n",
    "from sgp4.ext import invjday\n",
    "from astropy.time import Time\n",
    "from astropy.coordinates import TEME, CartesianDifferential, CartesianRepresentation\n",
    "from astropy import units as u\n",
    "from astropy.coordinates import ITRS\n",
    "from tqdm import tqdm"
   ],
   "metadata": {
    "collapsed": false,
    "ExecuteTime": {
     "end_time": "2024-09-02T09:15:19.645700200Z",
     "start_time": "2024-09-02T09:15:17.875048100Z"
    }
   },
   "execution_count": 1
  },
  {
   "cell_type": "code",
   "outputs": [],
   "source": [
    "def get_tle(sat_num):\n",
    "    # Space-Track API의 URL\n",
    "    url = \"https://www.space-track.org/ajaxauth/login\"\n",
    "\n",
    "    # 요청에 필요한 인증 정보\n",
    "    payload = {\"identity\": 'asas4539@hanyang.ac.kr', \"password\": ''}\n",
    "\n",
    "    # Session 객체 생성\n",
    "    session = requests.Session()\n",
    "\n",
    "    # 로그인 요청\n",
    "    response = session.post(url, data=payload)\n",
    "\n",
    "    if response.status_code != 200:\n",
    "        print(\"로그인에 실패했습니다.\")\n",
    "        return None\n",
    "\n",
    "    ## TLE 요청\n",
    "    response = session.get(\n",
    "        f\"https://www.space-track.org/basicspacedata/query/class/gp_history/NORAD_CAT_ID/{sat_num}/orderby/EPOCH%20ASC/EPOCH/2022-12-31--2024-08-01/format/kvn\"\n",
    "    )\n",
    "\n",
    "    response2 = session.get(\n",
    "        f\"https://www.space-track.org/basicspacedata/query/class/gp_history/NORAD_CAT_ID/{sat_num}/orderby/EPOCH%20ASC/EPOCH/2022-12-31--2024-08-01/format/3le\"\n",
    "    )\n",
    "\n",
    "    return response,response2"
   ],
   "metadata": {
    "collapsed": false,
    "ExecuteTime": {
     "end_time": "2024-09-02T06:37:33.366457900Z",
     "start_time": "2024-09-02T06:37:33.352034400Z"
    }
   },
   "execution_count": 2
  },
  {
   "cell_type": "code",
   "outputs": [],
   "source": [
    "username = 'asas4539@hanyang.ac.kr'\n",
    "password = 'onsaemiro1729!!'"
   ],
   "metadata": {
    "collapsed": false,
    "ExecuteTime": {
     "end_time": "2024-09-02T09:15:22.794170200Z",
     "start_time": "2024-09-02T09:15:22.775603900Z"
    }
   },
   "execution_count": 2
  },
  {
   "cell_type": "code",
   "execution_count": 3,
   "metadata": {
    "ExecuteTime": {
     "end_time": "2024-09-02T09:15:23.069648Z",
     "start_time": "2024-09-02T09:15:23.058678300Z"
    }
   },
   "outputs": [],
   "source": [
    "def get_tle(sat_num):\n",
    "    # Space-Track API의 URL\n",
    "    url = \"https://www.space-track.org/ajaxauth/login\"\n",
    "\n",
    "    # 요청에 필요한 인증 정보\n",
    "    payload = {\"identity\": username, \"password\": password}\n",
    "\n",
    "    # Session 객체 생성\n",
    "    session = requests.Session()\n",
    "\n",
    "    # 로그인 요청\n",
    "    response = session.post(url, data=payload)\n",
    "\n",
    "    if response.status_code != 200:\n",
    "        print(\"로그인에 실패했습니다.\")\n",
    "        return None\n",
    "\n",
    "    # TLE 요청\n",
    "    response = session.get(\n",
    "        f\"https://www.space-track.org/basicspacedata/query/class/tle/NORAD_CAT_ID/{sat_num}/EPOCH/2022-12-31--2024-08-01/orderby/EPOCH%20asc/format/3le\"\n",
    "    )\n",
    "\n",
    "    return response"
   ]
  },
  {
   "cell_type": "code",
   "execution_count": 4,
   "metadata": {
    "ExecuteTime": {
     "end_time": "2024-09-02T09:15:23.656142300Z",
     "start_time": "2024-09-02T09:15:23.644756700Z"
    }
   },
   "outputs": [],
   "source": [
    "col_name = ['time',\n",
    "            'x','y','z',\n",
    "            'vx', 'vy', 'vz',\n",
    "            'altitude', 'velocity', \n",
    "            'x_earth','y_earth','z_earth',\n",
    "            'vx_earth','vy_earth','vz_earth',\n",
    "            'apogee', 'perigee', \n",
    "            'inclination', 'eccentricity', 'raan',\n",
    "            'lon','lat','height']"
   ]
  },
  {
   "cell_type": "code",
   "execution_count": 5,
   "metadata": {
    "ExecuteTime": {
     "end_time": "2024-09-02T09:15:24.094104200Z",
     "start_time": "2024-09-02T09:15:24.068127400Z"
    }
   },
   "outputs": [],
   "source": [
    "no = 58400"
   ]
  },
  {
   "cell_type": "code",
   "execution_count": 6,
   "metadata": {
    "ExecuteTime": {
     "end_time": "2024-09-02T09:15:26.670729800Z",
     "start_time": "2024-09-02T09:15:24.404020700Z"
    }
   },
   "outputs": [],
   "source": [
    "response = get_tle(no)\n",
    "tle_datas = response.text.split('\\r\\n')\n",
    "\n",
    "tle_first_lst = []\n",
    "tle_second_lst = []\n",
    "\n",
    "for i in range(0, len(tle_datas)-2, 3):\n",
    "    tle_first_lst.append(tle_datas[i+1])\n",
    "    tle_second_lst.append(tle_datas[i+2])\n",
    "\n",
    "tle_df = pd.DataFrame({'first_line':tle_first_lst, 'second_line':tle_second_lst})\n",
    "tle_df.drop_duplicates(keep='first', inplace=True)\n",
    "tle_df.reset_index(inplace=True, drop=True)"
   ]
  },
  {
   "cell_type": "code",
   "execution_count": 8,
   "metadata": {
    "ExecuteTime": {
     "end_time": "2024-09-02T09:15:27.638611700Z",
     "start_time": "2024-09-02T09:15:27.591160100Z"
    }
   },
   "outputs": [],
   "source": [
    "\n",
    "\n",
    "\n",
    "change_times = []\n",
    "for i in range(len(tle_df)):\n",
    "    tle_1, tle_2 = tle_df['first_line'].iloc[i], tle_df['first_line'].iloc[i]\n",
    "    satellite = Satrec.twoline2rv(tle_1,tle_2)\n",
    "    jdsatepoch = satellite.jdsatepoch\n",
    "    jdsatepochfrac = satellite.jdsatepochF\n",
    "    epochdatetime = invjday(jdsatepoch + jdsatepochfrac)\n",
    "    change_times.append(epochdatetime)\n",
    "    \n",
    "change_df = pd.DataFrame(change_times)\n",
    "change_df.columns = ['year', 'month', 'day', 'hour', 'minute', 'second']\n",
    "change_df['first_line']=tle_df['first_line']\n",
    "change_df['second_line']=tle_df['second_line']\n",
    "change_df['time'] = change_df['year'].astype('str') + '-' + change_df['month'].astype('str') + '-' + change_df['day'].astype('str') + ' ' + change_df['hour'].astype('str') + ':' + change_df['minute'].astype('str') + ':' + change_df['second'].astype('int').astype('str')\n",
    "change_df['time'] = pd.to_datetime(change_df['time'])\n",
    "\n",
    "change_df = change_df.loc[change_df.sort_values(by=['year','month','day','hour','minute','second'])[['year','month','day','hour','minute']].drop_duplicates(keep='last').index].copy()\n",
    "change_df.reset_index(inplace=True, drop=True)\n",
    "\n",
    "end_point = change_df.iloc[-1:].copy()\n",
    "\n",
    "end_point['month'] = 8\n",
    "end_point['day'] = 1\n",
    "end_point['hour'] = 0\n",
    "end_point['minute'] = 0\n",
    "end_point['second'] = 0\n",
    "\n",
    "end_point['time'] = pd.to_datetime(end_point['year'].astype('str') + '-' + end_point['month'].astype('str') + '-' + end_point['day'].astype('str') + ' ' + end_point['hour'].astype('str') + ':' + end_point['minute'].astype('str') + ':' + end_point['second'].astype('int').astype('str'))\n",
    "\n",
    "change_df = pd.concat([change_df,end_point], axis=0).copy()\n",
    "change_df.reset_index(inplace=True, drop=True)\n",
    "\n",
    "day_change_idx = list(change_df[['year','month','day']].drop_duplicates().index)"
   ]
  },
  {
   "cell_type": "code",
   "execution_count": 9,
   "metadata": {
    "ExecuteTime": {
     "end_time": "2024-09-02T09:15:29.224177400Z",
     "start_time": "2024-09-02T09:15:29.189113400Z"
    }
   },
   "outputs": [
    {
     "data": {
      "text/plain": "      year  month  day  hour  minute     second  \\\n0     2023     11   22     0      14  26.541870   \n1     2023     11   22     3      57  45.311319   \n2     2023     11   22    20      45  54.277933   \n3     2023     11   22    22      51  26.794066   \n4     2023     11   23     5      11   1.638831   \n...    ...    ...  ...   ...     ...        ...   \n1123  2024      7   31     4      24  27.797175   \n1124  2024      7   31    13      52  36.837702   \n1125  2024      7   31    20      11  22.800776   \n1126  2024      7   31    23      20  45.747752   \n1127  2024      8    1     0       0   0.000000   \n\n                                             first_line  \\\n0     1 58400U 23179A   23326.01002942  .00008068  0...   \n1     1 58400U 23179A   23326.16510777  .00018821  0...   \n2     1 58400U 23179A   23326.86521155  .00009675  0...   \n3     1 58400U 23179A   23326.95239345  .00014863  0...   \n4     1 58400U 23179A   23327.21599119  .00012574  0...   \n...                                                 ...   \n1123  1 58400U 23179A   24213.18365506  .00008690  0...   \n1124  1 58400U 23179A   24213.57820414  .00007822  0...   \n1125  1 58400U 23179A   24213.84123612  .00009173  0...   \n1126  1 58400U 23179A   24213.97275171  .00009594  0...   \n1127  1 58400U 23179A   24213.97275171  .00009594  0...   \n\n                                            second_line                time  \n0     2 58400  97.4276 210.7863 0014260 279.3296  80... 2023-11-22 00:14:26  \n1     2 58400  97.4263 210.9434 0014062 277.7388 210... 2023-11-22 03:57:45  \n2     2 58400  97.4275 211.6299 0014281 275.8375  84... 2023-11-22 20:45:54  \n3     2 58400  97.4261 211.7175 0014282 275.5273 201... 2023-11-22 22:51:26  \n4     2 58400  97.4263 211.9766 0014186 274.4179 205... 2023-11-23 05:11:01  \n...                                                 ...                 ...  \n1123  2 58400  97.3982  99.2875 0003254  70.4061 289... 2024-07-31 04:24:27  \n1124  2 58400  97.3981  99.6755 0003225  69.4820 290... 2024-07-31 13:52:36  \n1125  2 58400  97.3981  99.9341 0003211  69.0697 291... 2024-07-31 20:11:22  \n1126  2 58400  97.3981 100.0633 0003201  68.8851 291... 2024-07-31 23:20:45  \n1127  2 58400  97.3981 100.0633 0003201  68.8851 291... 2024-08-01 00:00:00  \n\n[1128 rows x 9 columns]",
      "text/html": "<div>\n<style scoped>\n    .dataframe tbody tr th:only-of-type {\n        vertical-align: middle;\n    }\n\n    .dataframe tbody tr th {\n        vertical-align: top;\n    }\n\n    .dataframe thead th {\n        text-align: right;\n    }\n</style>\n<table border=\"1\" class=\"dataframe\">\n  <thead>\n    <tr style=\"text-align: right;\">\n      <th></th>\n      <th>year</th>\n      <th>month</th>\n      <th>day</th>\n      <th>hour</th>\n      <th>minute</th>\n      <th>second</th>\n      <th>first_line</th>\n      <th>second_line</th>\n      <th>time</th>\n    </tr>\n  </thead>\n  <tbody>\n    <tr>\n      <th>0</th>\n      <td>2023</td>\n      <td>11</td>\n      <td>22</td>\n      <td>0</td>\n      <td>14</td>\n      <td>26.541870</td>\n      <td>1 58400U 23179A   23326.01002942  .00008068  0...</td>\n      <td>2 58400  97.4276 210.7863 0014260 279.3296  80...</td>\n      <td>2023-11-22 00:14:26</td>\n    </tr>\n    <tr>\n      <th>1</th>\n      <td>2023</td>\n      <td>11</td>\n      <td>22</td>\n      <td>3</td>\n      <td>57</td>\n      <td>45.311319</td>\n      <td>1 58400U 23179A   23326.16510777  .00018821  0...</td>\n      <td>2 58400  97.4263 210.9434 0014062 277.7388 210...</td>\n      <td>2023-11-22 03:57:45</td>\n    </tr>\n    <tr>\n      <th>2</th>\n      <td>2023</td>\n      <td>11</td>\n      <td>22</td>\n      <td>20</td>\n      <td>45</td>\n      <td>54.277933</td>\n      <td>1 58400U 23179A   23326.86521155  .00009675  0...</td>\n      <td>2 58400  97.4275 211.6299 0014281 275.8375  84...</td>\n      <td>2023-11-22 20:45:54</td>\n    </tr>\n    <tr>\n      <th>3</th>\n      <td>2023</td>\n      <td>11</td>\n      <td>22</td>\n      <td>22</td>\n      <td>51</td>\n      <td>26.794066</td>\n      <td>1 58400U 23179A   23326.95239345  .00014863  0...</td>\n      <td>2 58400  97.4261 211.7175 0014282 275.5273 201...</td>\n      <td>2023-11-22 22:51:26</td>\n    </tr>\n    <tr>\n      <th>4</th>\n      <td>2023</td>\n      <td>11</td>\n      <td>23</td>\n      <td>5</td>\n      <td>11</td>\n      <td>1.638831</td>\n      <td>1 58400U 23179A   23327.21599119  .00012574  0...</td>\n      <td>2 58400  97.4263 211.9766 0014186 274.4179 205...</td>\n      <td>2023-11-23 05:11:01</td>\n    </tr>\n    <tr>\n      <th>...</th>\n      <td>...</td>\n      <td>...</td>\n      <td>...</td>\n      <td>...</td>\n      <td>...</td>\n      <td>...</td>\n      <td>...</td>\n      <td>...</td>\n      <td>...</td>\n    </tr>\n    <tr>\n      <th>1123</th>\n      <td>2024</td>\n      <td>7</td>\n      <td>31</td>\n      <td>4</td>\n      <td>24</td>\n      <td>27.797175</td>\n      <td>1 58400U 23179A   24213.18365506  .00008690  0...</td>\n      <td>2 58400  97.3982  99.2875 0003254  70.4061 289...</td>\n      <td>2024-07-31 04:24:27</td>\n    </tr>\n    <tr>\n      <th>1124</th>\n      <td>2024</td>\n      <td>7</td>\n      <td>31</td>\n      <td>13</td>\n      <td>52</td>\n      <td>36.837702</td>\n      <td>1 58400U 23179A   24213.57820414  .00007822  0...</td>\n      <td>2 58400  97.3981  99.6755 0003225  69.4820 290...</td>\n      <td>2024-07-31 13:52:36</td>\n    </tr>\n    <tr>\n      <th>1125</th>\n      <td>2024</td>\n      <td>7</td>\n      <td>31</td>\n      <td>20</td>\n      <td>11</td>\n      <td>22.800776</td>\n      <td>1 58400U 23179A   24213.84123612  .00009173  0...</td>\n      <td>2 58400  97.3981  99.9341 0003211  69.0697 291...</td>\n      <td>2024-07-31 20:11:22</td>\n    </tr>\n    <tr>\n      <th>1126</th>\n      <td>2024</td>\n      <td>7</td>\n      <td>31</td>\n      <td>23</td>\n      <td>20</td>\n      <td>45.747752</td>\n      <td>1 58400U 23179A   24213.97275171  .00009594  0...</td>\n      <td>2 58400  97.3981 100.0633 0003201  68.8851 291...</td>\n      <td>2024-07-31 23:20:45</td>\n    </tr>\n    <tr>\n      <th>1127</th>\n      <td>2024</td>\n      <td>8</td>\n      <td>1</td>\n      <td>0</td>\n      <td>0</td>\n      <td>0.000000</td>\n      <td>1 58400U 23179A   24213.97275171  .00009594  0...</td>\n      <td>2 58400  97.3981 100.0633 0003201  68.8851 291...</td>\n      <td>2024-08-01 00:00:00</td>\n    </tr>\n  </tbody>\n</table>\n<p>1128 rows × 9 columns</p>\n</div>"
     },
     "execution_count": 9,
     "metadata": {},
     "output_type": "execute_result"
    }
   ],
   "source": [
    "change_df"
   ]
  },
  {
   "cell_type": "code",
   "execution_count": 9,
   "metadata": {
    "ExecuteTime": {
     "end_time": "2024-09-02T09:15:29.943820900Z",
     "start_time": "2024-09-02T09:15:29.914967Z"
    }
   },
   "outputs": [],
   "source": []
  },
  {
   "cell_type": "code",
   "execution_count": 9,
   "metadata": {
    "ExecuteTime": {
     "end_time": "2024-09-02T09:15:30.619683Z",
     "start_time": "2024-09-02T09:15:30.610400900Z"
    }
   },
   "outputs": [],
   "source": []
  },
  {
   "cell_type": "code",
   "execution_count": 9,
   "metadata": {
    "ExecuteTime": {
     "end_time": "2024-09-02T09:15:30.970422700Z",
     "start_time": "2024-09-02T09:15:30.963096200Z"
    }
   },
   "outputs": [],
   "source": []
  },
  {
   "cell_type": "code",
   "execution_count": 10,
   "metadata": {
    "ExecuteTime": {
     "end_time": "2024-09-02T09:16:03.213144500Z",
     "start_time": "2024-09-02T09:15:31.427808300Z"
    }
   },
   "outputs": [
    {
     "name": "stderr",
     "output_type": "stream",
     "text": [
      "100%|██████████| 1127/1127 [00:31<00:00, 36.16it/s]\n"
     ]
    }
   ],
   "source": [
    "\n",
    "all_info = []\n",
    "\n",
    "for i in tqdm(range(len(change_df)-1)):\n",
    "\n",
    "    sat_info = change_df.iloc[i]\n",
    "    next_sat_info = change_df.iloc[i+1]\n",
    "\n",
    "    tle_1, tle_2 = sat_info['first_line'], sat_info['second_line']\n",
    "\n",
    "    satellite = Satrec.twoline2rv(tle_1,tle_2)\n",
    "    jdsatepoch = satellite.jdsatepoch\n",
    "    jdsatepochfrac = satellite.jdsatepochF\n",
    "    epochdatetime = list(invjday(jdsatepoch + jdsatepochfrac))\n",
    "    epochdatetime[-1] = int(epochdatetime[-1])\n",
    "\n",
    "    next_tle_1, next_tle_2 = next_sat_info['first_line'], next_sat_info['second_line']\n",
    "\n",
    "    next_satellite = Satrec.twoline2rv(next_tle_1,next_tle_2)\n",
    "    next_jdsatepoch = next_satellite.jdsatepoch\n",
    "    next_jdsatepochfrac = next_satellite.jdsatepochF\n",
    "    next_epochdatetime = list(invjday(next_jdsatepoch + next_jdsatepochfrac))\n",
    "    next_epochdatetime[-1] = int(next_epochdatetime[-1])\n",
    "\n",
    "\n",
    "    earth_radius = 6378.137\n",
    "    rad2deg = 180.0 / 3.141592653589793\n",
    "\n",
    "    start = datetime(*epochdatetime)\n",
    "\n",
    "    if i == len(change_df)-2:\n",
    "        next_epochdatetime = [2024, 8, 1, 0, 0, 0]\n",
    "        end = datetime(*next_epochdatetime)\n",
    "    else:\n",
    "        end = datetime(*next_epochdatetime)\n",
    "        end += timedelta(seconds=1)\n",
    "\n",
    "    start += timedelta(minutes=1)\n",
    "    start -= timedelta(seconds=start.second)\n",
    "\n",
    "    epoch = start\n",
    "\n",
    "    jd_lst = []\n",
    "    fr_lst = []\n",
    "\n",
    "    time_lst = []\n",
    "\n",
    "    while( epoch < end ):\n",
    "\n",
    "        year = epoch.year\n",
    "        month = epoch.month\n",
    "        date = epoch.day\n",
    "        hour = epoch.hour\n",
    "        minute = epoch.minute\n",
    "        second = epoch.second\n",
    "\n",
    "        time_lst.append(epoch)\n",
    "\n",
    "        jd, fr = jday(year, month, date, hour, minute, second)\n",
    "\n",
    "        jd_lst.append(jd)\n",
    "        fr_lst.append(fr)\n",
    "        \n",
    "        epoch += timedelta(minutes=1)\n",
    "\n",
    "    e, r, v = satellite.sgp4_array(np.array(jd_lst), np.array(fr_lst))\n",
    "\n",
    "    t_lst = Time(list(np.array(jd_lst) + np.array(fr_lst)), format='jd')\n",
    "\n",
    "    teme_p = CartesianRepresentation(r[:,0]*u.km, r[:,1]*u.km, r[:,2]*u.km)\n",
    "    teme_v = CartesianDifferential(v[:,0]*u.km/u.s,v[:,1]*u.km/u.s,v[:,2]*u.km/u.s)\n",
    "    teme = TEME(teme_p.with_differentials(teme_v), obstime=t_lst)\n",
    "    itrs_geo = teme.transform_to(ITRS(obstime=t_lst))\n",
    "    locations = itrs_geo.earth_location\n",
    "    geodetic_coords = locations.geodetic\n",
    "\n",
    "    all_info.append(pd.DataFrame([time_lst,\n",
    "              r[:,0],r[:,1],r[:,2],\n",
    "              v[:,0],v[:,1],v[:,2],\n",
    "              (r[:,0]**2 + r[:,1]**2 + r[:,2]**2)**0.5,(v[:,0]**2 + v[:,1]**2 + v[:,2]**2)**0.5,\n",
    "              teme_p.x.value, teme_p.y.value, teme_p.z.value,\n",
    "              teme_v.d_x.value,teme_v.d_y.value,teme_v.d_z.value,\n",
    "              [satellite.alta * earth_radius] * len(time_lst), [satellite.altp * earth_radius]* len(time_lst),\n",
    "              [satellite.inclo*rad2deg] * len(time_lst), [satellite.ecco]* len(time_lst),[satellite.nodeo]* len(time_lst),\n",
    "              geodetic_coords.lon.value, geodetic_coords.lat.value,geodetic_coords.height.value,\n",
    "                ]))\n",
    "\n",
    "result = pd.concat(all_info,axis=1).T\n",
    "\n",
    "result.columns = col_name\n",
    "result.time = pd.to_datetime(result.time)\n",
    "result = result.set_index(['time'])"
   ]
  },
  {
   "cell_type": "code",
   "execution_count": 11,
   "metadata": {
    "ExecuteTime": {
     "end_time": "2024-09-02T09:16:03.233694900Z",
     "start_time": "2024-09-02T09:16:03.213144500Z"
    }
   },
   "outputs": [
    {
     "data": {
      "text/plain": "(364305, 22)"
     },
     "execution_count": 11,
     "metadata": {},
     "output_type": "execute_result"
    }
   ],
   "source": [
    "result.shape"
   ]
  },
  {
   "cell_type": "code",
   "execution_count": null,
   "metadata": {},
   "outputs": [],
   "source": []
  },
  {
   "cell_type": "code",
   "execution_count": null,
   "metadata": {},
   "outputs": [],
   "source": []
  },
  {
   "cell_type": "code",
   "execution_count": null,
   "metadata": {},
   "outputs": [],
   "source": []
  },
  {
   "cell_type": "code",
   "execution_count": null,
   "metadata": {},
   "outputs": [],
   "source": []
  },
  {
   "cell_type": "code",
   "execution_count": null,
   "metadata": {},
   "outputs": [],
   "source": []
  },
  {
   "cell_type": "code",
   "execution_count": null,
   "metadata": {},
   "outputs": [],
   "source": []
  },
  {
   "cell_type": "code",
   "execution_count": null,
   "metadata": {},
   "outputs": [],
   "source": []
  },
  {
   "cell_type": "code",
   "execution_count": null,
   "metadata": {},
   "outputs": [],
   "source": [
    "no_lst = [17122, 29043, 29505, 32791, 36596, \n",
    "          37337, 38345, 39227, 41850, 42841, \n",
    "          43186, 43807, 44343, 44349, 44350,\n",
    "          44351, 44353, 44358, 46267, 49962, \n",
    "          55909, 58018, 58019, 58023, 58024, \n",
    "          58464]"
   ]
  },
  {
   "cell_type": "code",
   "execution_count": null,
   "metadata": {},
   "outputs": [],
   "source": [
    "no_lst = [43823,45246,29349,37265,42691,42984]"
   ]
  },
  {
   "cell_type": "code",
   "execution_count": null,
   "metadata": {},
   "outputs": [],
   "source": [
    "no_lst.sort()\n",
    "no_lst"
   ]
  },
  {
   "cell_type": "code",
   "execution_count": null,
   "metadata": {},
   "outputs": [],
   "source": [
    "no_lst = [43823, 45246, 29349, 37265, 42691, 42984, 55841, 39227, 44343, 44349, 44350, 44351, 44353, 44358, 58464, 46267, 53611, 53019, 51961, 47775, 51969, 58722, 56361, 56289, 56783, 48018]\n"
   ]
  },
  {
   "cell_type": "code",
   "execution_count": null,
   "metadata": {},
   "outputs": [],
   "source": [
    "no_lst = [37265, 42691, 42984]"
   ]
  },
  {
   "cell_type": "code",
   "execution_count": null,
   "metadata": {},
   "outputs": [],
   "source": [
    "no_lst = [42984,58400]"
   ]
  },
  {
   "cell_type": "code",
   "execution_count": null,
   "metadata": {},
   "outputs": [],
   "source": [
    "for no in no_lst:\n",
    "    print(no)\n",
    "    \n",
    "    response = get_tle(no)\n",
    "    tle_datas = response.text.split('\\r\\n')\n",
    "\n",
    "    tle_first_lst = []\n",
    "    tle_second_lst = []\n",
    "\n",
    "    for i in range(0, len(tle_datas)-2, 3):\n",
    "        tle_first_lst.append(tle_datas[i+1])\n",
    "        tle_second_lst.append(tle_datas[i+2])\n",
    "\n",
    "    tle_df = pd.DataFrame({'first_line':tle_first_lst, 'second_line':tle_second_lst})\n",
    "    tle_df.drop_duplicates(keep='first', inplace=True)\n",
    "    tle_df.reset_index(inplace=True, drop=True)\n",
    "\n",
    "    change_times = []\n",
    "    for i in range(len(tle_df)):\n",
    "        tle_1, tle_2 = tle_df['first_line'].iloc[i], tle_df['first_line'].iloc[i]\n",
    "        satellite = Satrec.twoline2rv(tle_1,tle_2)\n",
    "        jdsatepoch = satellite.jdsatepoch\n",
    "        jdsatepochfrac = satellite.jdsatepochF\n",
    "        epochdatetime = invjday(jdsatepoch + jdsatepochfrac)\n",
    "        change_times.append(epochdatetime)\n",
    "        \n",
    "    change_df = pd.DataFrame(change_times)\n",
    "    change_df.columns = ['year', 'month', 'day', 'hour', 'minute', 'second']\n",
    "    change_df['first_line']=tle_df['first_line']\n",
    "    change_df['second_line']=tle_df['second_line']\n",
    "    change_df['time'] = change_df['year'].astype('str') + '-' + change_df['month'].astype('str') + '-' + change_df['day'].astype('str') + ' ' + change_df['hour'].astype('str') + ':' + change_df['minute'].astype('str') + ':' + change_df['second'].astype('int').astype('str')\n",
    "    change_df['time'] = pd.to_datetime(change_df['time'])\n",
    "\n",
    "    change_df = change_df.loc[change_df.sort_values(by=['year','month','day','hour','minute','second'])[['year','month','day','hour','minute']].drop_duplicates(keep='last').index].copy()\n",
    "    change_df.reset_index(inplace=True, drop=True)\n",
    "\n",
    "    end_point = change_df.iloc[-1:].copy()\n",
    "\n",
    "    end_point['month'] = 8\n",
    "    end_point['day'] = 1\n",
    "    end_point['hour'] = 0\n",
    "    end_point['minute'] = 0\n",
    "    end_point['second'] = 0\n",
    "\n",
    "    end_point['time'] = pd.to_datetime(end_point['year'].astype('str') + '-' + end_point['month'].astype('str') + '-' + end_point['day'].astype('str') + ' ' + end_point['hour'].astype('str') + ':' + end_point['minute'].astype('str') + ':' + end_point['second'].astype('int').astype('str'))\n",
    "\n",
    "    change_df = pd.concat([change_df,end_point], axis=0).copy()\n",
    "    change_df.reset_index(inplace=True, drop=True)\n",
    "\n",
    "\n",
    "    all_info = []\n",
    "\n",
    "    for i in tqdm(range(len(change_df)-1)):\n",
    "\n",
    "        sat_info = change_df.iloc[i]\n",
    "        next_sat_info = change_df.iloc[i+1]\n",
    "\n",
    "        tle_1, tle_2 = sat_info['first_line'], sat_info['second_line']\n",
    "\n",
    "        satellite = Satrec.twoline2rv(tle_1,tle_2)\n",
    "        jdsatepoch = satellite.jdsatepoch\n",
    "        jdsatepochfrac = satellite.jdsatepochF\n",
    "        epochdatetime = list(invjday(jdsatepoch + jdsatepochfrac))\n",
    "        epochdatetime[-1] = int(epochdatetime[-1])\n",
    "\n",
    "        next_tle_1, next_tle_2 = next_sat_info['first_line'], next_sat_info['second_line']\n",
    "\n",
    "        next_satellite = Satrec.twoline2rv(next_tle_1,next_tle_2)\n",
    "        next_jdsatepoch = next_satellite.jdsatepoch\n",
    "        next_jdsatepochfrac = next_satellite.jdsatepochF\n",
    "        next_epochdatetime = list(invjday(next_jdsatepoch + next_jdsatepochfrac))\n",
    "        next_epochdatetime[-1] = int(next_epochdatetime[-1])\n",
    "\n",
    "\n",
    "        earth_radius = 6378.137\n",
    "        rad2deg = 180.0 / 3.141592653589793\n",
    "\n",
    "        start = datetime(*epochdatetime)\n",
    "\n",
    "        if i == len(change_df)-2:\n",
    "            next_epochdatetime = [2024, 8, 1, 0, 0, 0]\n",
    "            end = datetime(*next_epochdatetime)\n",
    "        else:\n",
    "            end = datetime(*next_epochdatetime)\n",
    "            end += timedelta(seconds=1)\n",
    "\n",
    "        start += timedelta(minutes=1)\n",
    "        start -= timedelta(seconds=start.second)\n",
    "\n",
    "        epoch = start\n",
    "\n",
    "        jd_lst = []\n",
    "        fr_lst = []\n",
    "\n",
    "        time_lst = []\n",
    "\n",
    "        while( epoch < end ):\n",
    "\n",
    "            year = epoch.year\n",
    "            month = epoch.month\n",
    "            date = epoch.day\n",
    "            hour = epoch.hour\n",
    "            minute = epoch.minute\n",
    "            second = epoch.second\n",
    "\n",
    "            time_lst.append(epoch)\n",
    "\n",
    "            jd, fr = jday(year, month, date, hour, minute, second)\n",
    "\n",
    "            jd_lst.append(jd)\n",
    "            fr_lst.append(fr)\n",
    "            \n",
    "            epoch += timedelta(minutes=1)\n",
    "\n",
    "        e, r, v = satellite.sgp4_array(np.array(jd_lst), np.array(fr_lst))\n",
    "\n",
    "        t_lst = Time(list(np.array(jd_lst) + np.array(fr_lst)), format='jd')\n",
    "\n",
    "        teme_p = CartesianRepresentation(r[:,0]*u.km, r[:,1]*u.km, r[:,2]*u.km)\n",
    "        teme_v = CartesianDifferential(v[:,0]*u.km/u.s,v[:,1]*u.km/u.s,v[:,2]*u.km/u.s)\n",
    "        teme = TEME(teme_p.with_differentials(teme_v), obstime=t_lst)\n",
    "        itrs_geo = teme.transform_to(ITRS(obstime=t_lst))\n",
    "        locations = itrs_geo.earth_location\n",
    "        geodetic_coords = locations.geodetic\n",
    "\n",
    "        all_info.append(pd.DataFrame([time_lst,\n",
    "                r[:,0],r[:,1],r[:,2],\n",
    "                v[:,0],v[:,1],v[:,2],\n",
    "                (r[:,0]**2 + r[:,1]**2 + r[:,2]**2)**0.5,(v[:,0]**2 + v[:,1]**2 + v[:,2]**2)**0.5,\n",
    "                teme_p.x.value, teme_p.y.value, teme_p.z.value,\n",
    "                teme_v.d_x.value,teme_v.d_y.value,teme_v.d_z.value,\n",
    "                [satellite.alta * earth_radius] * len(time_lst), [satellite.altp * earth_radius]* len(time_lst),\n",
    "                [satellite.inclo*rad2deg] * len(time_lst), [satellite.ecco]* len(time_lst),[satellite.nodeo]* len(time_lst),\n",
    "                geodetic_coords.lon.value, geodetic_coords.lat.value,geodetic_coords.height.value,\n",
    "                    ]))\n",
    "\n",
    "    result = pd.concat(all_info,axis=1).T\n",
    "\n",
    "    result.columns = col_name\n",
    "    result.time = pd.to_datetime(result.time)\n",
    "    result = result.set_index(['time'])\n",
    "\n",
    "    result.sort_values(by=['time']).to_csv('data/'+ str(no) +'.csv')"
   ]
  },
  {
   "cell_type": "code",
   "execution_count": null,
   "metadata": {},
   "outputs": [],
   "source": []
  },
  {
   "cell_type": "code",
   "execution_count": null,
   "metadata": {},
   "outputs": [],
   "source": [
    "change_df[(change_df['time'] >= '2023-09-25') & (change_df['time'] <= '2023-09-30')]"
   ]
  },
  {
   "cell_type": "code",
   "execution_count": null,
   "metadata": {},
   "outputs": [],
   "source": [
    "change_df[(change_df['time'] >= '2023-10-11') & (change_df['time'] <= '2023-10-17')]"
   ]
  },
  {
   "cell_type": "code",
   "execution_count": null,
   "metadata": {},
   "outputs": [],
   "source": []
  }
 ],
 "metadata": {
  "kernelspec": {
   "display_name": "spacemap",
   "language": "python",
   "name": "python3"
  },
  "language_info": {
   "codemirror_mode": {
    "name": "ipython",
    "version": 3
   },
   "file_extension": ".py",
   "mimetype": "text/x-python",
   "name": "python",
   "nbconvert_exporter": "python",
   "pygments_lexer": "ipython3",
   "version": "undefined.undefined.undefined"
  }
 },
 "nbformat": 4,
 "nbformat_minor": 2
}
