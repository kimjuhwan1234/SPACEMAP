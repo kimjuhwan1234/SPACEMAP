{
 "cells": [
  {
   "cell_type": "code",
   "execution_count": 1,
   "metadata": {
    "ExecuteTime": {
     "end_time": "2024-07-05T05:17:58.381418900Z",
     "start_time": "2024-07-05T05:17:57.420635800Z"
    }
   },
   "outputs": [],
   "source": [
    "import requests\n",
    "import numpy as np\n",
    "import pandas as pd\n",
    "\n",
    "import json\n",
    "import time\n",
    "from datetime import datetime, timedelta\n",
    "import sgp4\n",
    "from sgp4.api import Satrec, WGS72\n",
    "from sgp4.conveniences import jday\n",
    "from sgp4.ext import invjday"
   ]
  },
  {
   "cell_type": "code",
   "execution_count": 2,
   "metadata": {
    "ExecuteTime": {
     "end_time": "2024-07-05T02:17:06.785059900Z",
     "start_time": "2024-07-05T02:17:06.777804800Z"
    }
   },
   "outputs": [],
   "source": [
    "def get_tle():\n",
    "    # Space-Track API의 URL\n",
    "    url = \"https://www.space-track.org/ajaxauth/login\"\n",
    "\n",
    "    # 요청에 필요한 인증 정보\n",
    "    payload = {\"identity\": 'asas4539@hanyang.ac.kr', \"password\": 'onsaemiro1729!!'}\n",
    "\n",
    "    # Session 객체 생성\n",
    "    session = requests.Session()\n",
    "\n",
    "    # 로그인 요청\n",
    "    response = session.post(url, data=payload)\n",
    "\n",
    "    if response.status_code != 200:\n",
    "        print(\"로그인에 실패했습니다.\")\n",
    "        return None\n",
    "\n",
    "    # TLE 요청\n",
    "    response = session.get(\n",
    "        f\"https://www.space-track.org/basicspacedata/query/class/tle/NORAD_CAT_ID/58400/EPOCH/2023-11-22--2024-07-04/orderby/EPOCH%20asc/format/3le/emptyresult/show\"\n",
    "    )#\n",
    "\n",
    "    return response"
   ]
  },
  {
   "cell_type": "code",
   "execution_count": 5,
   "metadata": {
    "ExecuteTime": {
     "end_time": "2024-07-05T01:29:14.467069Z",
     "start_time": "2024-07-05T01:29:13.119682400Z"
    }
   },
   "outputs": [],
   "source": [
    "response = get_tle()\n",
    "tle_datas = response.text.split('\\r\\n')\n",
    "\n",
    "tle_first_lst = []\n",
    "tle_second_lst = []\n",
    "\n",
    "for i in range(0, len(tle_datas)-2, 3):\n",
    "    tle_first_lst.append(tle_datas[i+1])\n",
    "    tle_second_lst.append(tle_datas[i+2])\n",
    "\n",
    "tle_df = pd.DataFrame({'first_line':tle_first_lst, 'second_line':tle_second_lst})\n",
    "tle_df.drop_duplicates(keep='first', inplace=True)\n",
    "tle_df.reset_index(inplace=True, drop=True)"
   ]
  },
  {
   "cell_type": "code",
   "execution_count": 6,
   "metadata": {
    "ExecuteTime": {
     "end_time": "2024-07-05T01:29:15.076909400Z",
     "start_time": "2024-07-05T01:29:15.030886300Z"
    }
   },
   "outputs": [],
   "source": [
    "change_times = []\n",
    "for i in range(len(tle_df)):\n",
    "    tle_1, tle_2 = tle_df['first_line'].iloc[i], tle_df['first_line'].iloc[i]\n",
    "    satellite = Satrec.twoline2rv(tle_1,tle_2)\n",
    "    jdsatepoch = satellite.jdsatepoch\n",
    "    jdsatepochfrac = satellite.jdsatepochF\n",
    "    epochdatetime = invjday(jdsatepoch + jdsatepochfrac)\n",
    "    change_times.append(epochdatetime)"
   ]
  },
  {
   "cell_type": "code",
   "execution_count": 7,
   "metadata": {
    "ExecuteTime": {
     "end_time": "2024-07-05T01:29:15.595068900Z",
     "start_time": "2024-07-05T01:29:15.568216400Z"
    }
   },
   "outputs": [],
   "source": [
    "change_df = pd.DataFrame(change_times)\n",
    "change_df.columns = ['year', 'month', 'day', 'hour', 'minute', 'second']\n",
    "change_df['first_line']=tle_df['first_line']\n",
    "change_df['second_line']=tle_df['second_line']\n",
    "change_df['time'] = change_df['year'].astype('str') + '-' + change_df['month'].astype('str') + '-' + change_df['day'].astype('str') + ' ' + change_df['hour'].astype('str') + ':' + change_df['minute'].astype('str') + ':' + change_df['second'].astype('int').astype('str')\n",
    "change_df['time'] = pd.to_datetime(change_df['time'])"
   ]
  },
  {
   "cell_type": "code",
   "execution_count": 47,
   "metadata": {
    "ExecuteTime": {
     "end_time": "2024-07-05T02:10:04.029814400Z",
     "start_time": "2024-07-05T02:03:41.614594Z"
    }
   },
   "outputs": [],
   "source": [
    "epoch = datetime(2023,11, 22, 0, 15, 0)\n",
    "all_info = []\n",
    "\n",
    "earth_radius = 6378.137\n",
    "rad2deg = 180.0 / 3.141592653589793\n",
    "\n",
    "while epoch < datetime(2024, 7, 4, 0, 0, 0):\n",
    "    # print(epoch)\n",
    "    year = epoch.year\n",
    "    month = epoch.month\n",
    "    date = epoch.day\n",
    "    hour = epoch.hour\n",
    "    minute = epoch.minute\n",
    "\n",
    "    now_time = str(year) +'-' + str(month) + '-' + str(date) + ' ' + str(hour) + ':' + str(minute) + ':' + str(0)\n",
    "    temp = change_df[change_df['time'] <= pd.to_datetime(now_time)].copy()\n",
    "\n",
    "    jd, fr =jday(year, month, date, hour, minute, 0)\n",
    "\n",
    "    tle1,tle2 = temp.iloc[-1]['first_line'], temp.iloc[-1]['second_line']\n",
    "    satellite = Satrec.twoline2rv(tle1, tle2)\n",
    "\n",
    "    e, position, velocity = satellite.sgp4(jd, fr)\n",
    "\n",
    "    all_info.append([len(temp), tle1, tle2,\n",
    "                     year, month, date, hour, minute, \n",
    "                     position[0], position[1], position[2], velocity[0], velocity[1], velocity[2],\n",
    "                     (position[0]**2 + position[1]**2 + position[2]**2)**0.5- earth_radius, (velocity[0]**2 + velocity[1]**2 + velocity[2]**2)**0.5,\n",
    "                     satellite.alta * earth_radius , satellite.altp * earth_radius,\n",
    "                     satellite.inclo*rad2deg, satellite.ecco, satellite.nodeo])\n",
    "\n",
    "    epoch += timedelta(minutes=1)"
   ]
  },
  {
   "cell_type": "code",
   "execution_count": 49,
   "metadata": {
    "ExecuteTime": {
     "end_time": "2024-07-05T02:10:04.946916500Z",
     "start_time": "2024-07-05T02:10:04.198685Z"
    }
   },
   "outputs": [],
   "source": [
    "info_df = pd.DataFrame(all_info)\n",
    "info_df.columns = ['change', 'tle1','tle2',\n",
    "                    'year', 'month', 'day', 'hour', 'minute', \n",
    "                   'x', 'y', 'z', 'vx', 'vy', 'vz',\n",
    "                    'altitude', 'velocity', \n",
    "                    'apogee', 'perigee', \n",
    "                    'inclination', 'eccentricity', 'raan']\n",
    "info_df['change'] = (info_df['change'].diff().fillna(1)>=1) * 1\n",
    "info_wo_tle_df = info_df.drop(['tle1', 'tle2'], axis=1).copy()"
   ]
  },
  {
   "cell_type": "code",
   "outputs": [],
   "source": [
    "# info_wo_tle_df.to_csv('File/info_wo_tle_df.csv')"
   ],
   "metadata": {
    "collapsed": false,
    "ExecuteTime": {
     "end_time": "2024-07-05T02:17:16.094814400Z",
     "start_time": "2024-07-05T02:17:16.049367400Z"
    }
   },
   "execution_count": 4
  },
  {
   "cell_type": "code",
   "outputs": [],
   "source": [
    "info_wo_tle_df= pd.read_csv('File/info_wo_tle_df.csv')"
   ],
   "metadata": {
    "collapsed": false,
    "ExecuteTime": {
     "end_time": "2024-07-05T05:21:30.957016800Z",
     "start_time": "2024-07-05T05:21:30.226794800Z"
    }
   },
   "execution_count": 18
  },
  {
   "cell_type": "code",
   "outputs": [],
   "source": [
    "df_1=info_wo_tle_df[['year', 'month', 'day', 'hour', 'raan']]"
   ],
   "metadata": {
    "collapsed": false,
    "ExecuteTime": {
     "end_time": "2024-07-05T05:22:16.886691800Z",
     "start_time": "2024-07-05T05:22:16.868004400Z"
    }
   },
   "execution_count": 26
  },
  {
   "cell_type": "code",
   "outputs": [
    {
     "name": "stderr",
     "output_type": "stream",
     "text": [
      "C:\\Users\\asas4\\AppData\\Local\\Temp\\ipykernel_7988\\1948842781.py:2: SettingWithCopyWarning: \n",
      "A value is trying to be set on a copy of a slice from a DataFrame.\n",
      "Try using .loc[row_indexer,col_indexer] = value instead\n",
      "\n",
      "See the caveats in the documentation: https://pandas.pydata.org/pandas-docs/stable/user_guide/indexing.html#returning-a-view-versus-a-copy\n",
      "  df_1.loc[:, 'datetime'] = pd.to_datetime(df_1[['year', 'month', 'day', 'hour']])\n",
      "C:\\Users\\asas4\\AppData\\Local\\Temp\\ipykernel_7988\\1948842781.py:8: SettingWithCopyWarning: \n",
      "A value is trying to be set on a copy of a slice from a DataFrame\n",
      "\n",
      "See the caveats in the documentation: https://pandas.pydata.org/pandas-docs/stable/user_guide/indexing.html#returning-a-view-versus-a-copy\n",
      "  df_1.drop(columns=['year', 'month', 'day', 'hour'], inplace=True)\n"
     ]
    }
   ],
   "source": [
    "# 연, 월, 일, 시를 하나로 합쳐 datetime 형식으로 변환\n",
    "df_1.loc[:, 'datetime'] = pd.to_datetime(df_1[['year', 'month', 'day', 'hour']])\n",
    "\n",
    "# datetime 열을 인덱스로 설정\n",
    "df_1.set_index('datetime', inplace=True)\n",
    "\n",
    "# 필요 없는 열 제거 (옵션)\n",
    "df_1.drop(columns=['year', 'month', 'day', 'hour'], inplace=True)\n",
    "\n",
    "df_1=df_1.resample('h').mean()"
   ],
   "metadata": {
    "collapsed": false,
    "ExecuteTime": {
     "end_time": "2024-07-05T05:22:17.309430Z",
     "start_time": "2024-07-05T05:22:17.236306Z"
    }
   },
   "execution_count": 27
  },
  {
   "cell_type": "code",
   "outputs": [],
   "source": [
    "df_2= df_1.rolling(window=120).mean().dropna()"
   ],
   "metadata": {
    "collapsed": false,
    "ExecuteTime": {
     "end_time": "2024-07-05T05:12:27.167910200Z",
     "start_time": "2024-07-05T05:12:27.147326300Z"
    }
   },
   "execution_count": 142
  },
  {
   "cell_type": "code",
   "outputs": [],
   "source": [
    "df_2=df_1"
   ],
   "metadata": {
    "collapsed": false,
    "ExecuteTime": {
     "end_time": "2024-07-05T05:22:19.185015800Z",
     "start_time": "2024-07-05T05:22:19.168037700Z"
    }
   },
   "execution_count": 28
  },
  {
   "cell_type": "code",
   "outputs": [],
   "source": [
    "window = 500\n",
    "ol_idxs = []\n",
    "for i in range(window,5400 - window,1):\n",
    "    window_diff = df_2[i-window : i]\n",
    "    z_norm = ((window_diff - window_diff.mean())/window_diff.std())\n",
    "    final_val = float(z_norm.values[-1])\n",
    "    \n",
    "    if np.abs(final_val) > 3:\n",
    "        ol_idxs.append(i)"
   ],
   "metadata": {
    "collapsed": false,
    "ExecuteTime": {
     "end_time": "2024-07-05T05:22:22.606879900Z",
     "start_time": "2024-07-05T05:22:19.458398100Z"
    }
   },
   "execution_count": 29
  },
  {
   "cell_type": "code",
   "outputs": [
    {
     "data": {
      "text/plain": "<Figure size 1000x500 with 1 Axes>",
      "image/png": "[encoded data removed]"
     },
     "metadata": {},
     "output_type": "display_data"
    }
   ],
   "source": [
    "from utils.Plot import *\n",
    "draw_graph(df_2, 'RAAN', '', pd.DataFrame(df_2.iloc[ol_idxs].index.date).drop_duplicates().values.tolist(), \"blue\")"
   ],
   "metadata": {
    "collapsed": false,
    "ExecuteTime": {
     "end_time": "2024-07-05T05:22:38.486856100Z",
     "start_time": "2024-07-05T05:22:38.298095100Z"
    }
   },
   "execution_count": 31
  },
  {
   "cell_type": "code",
   "outputs": [
    {
     "data": {
      "text/plain": "<Figure size 1000x500 with 1 Axes>",
      "image/png": "[encoded data removed]"
     },
     "metadata": {},
     "output_type": "display_data"
    }
   ],
   "source": [
    "plt.figure(figsize=(10, 5))\n",
    "\n",
    "plt.plot(df_2.index, df_2.values, color='Blue')\n",
    "plt.scatter(df_2.iloc[ol_idxs].index, df_2.iloc[ol_idxs], c='tab:red',s=10)\n",
    "\n",
    "set_plot_params('Perigee', '')\n",
    "ylim_min, ylim_max = calculate_ylim(list(df_2.values))\n",
    "plt.ylim(ylim_min, ylim_max)\n",
    "plt.show()"
   ],
   "metadata": {
    "collapsed": false,
    "ExecuteTime": {
     "end_time": "2024-07-05T05:22:40.976251300Z",
     "start_time": "2024-07-05T05:22:40.777363300Z"
    }
   },
   "execution_count": 32
  }
 ],
 "metadata": {
  "kernelspec": {
   "display_name": "spacemap",
   "language": "python",
   "name": "python3"
  },
  "language_info": {
   "codemirror_mode": {
    "name": "ipython",
    "version": 3
   },
   "file_extension": ".py",
   "mimetype": "text/x-python",
   "name": "python",
   "nbconvert_exporter": "python",
   "pygments_lexer": "ipython3",
   "version": "3.10.14"
  }
 },
 "nbformat": 4,
 "nbformat_minor": 2
}
